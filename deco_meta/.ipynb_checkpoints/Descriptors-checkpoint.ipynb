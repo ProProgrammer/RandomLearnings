{
 "cells": [
  {
   "cell_type": "code",
   "execution_count": 1,
   "metadata": {
    "collapsed": false
   },
   "outputs": [
    {
     "data": {
      "text/plain": [
       "\"\\nDescriptors:\\n- It is a feature that allows you fine-grained access of attribute access, it is all about attribute access.\\n- More control of what a user can do - you narrow the choices of the user of this instance because you don't allow a few things that ought not to happen.\\n\""
      ]
     },
     "execution_count": 1,
     "metadata": {},
     "output_type": "execute_result"
    }
   ],
   "source": [
    "\"\"\"\n",
    "Descriptors:\n",
    "- It is a feature that allows you fine-grained access of attribute access, it is all about attribute access.\n",
    "- More control of what a user can do - you narrow the choices of the user of this instance because you don't allow a few things that ought not to happen.\n",
    "\"\"\""
   ]
  },
  {
   "cell_type": "markdown",
   "metadata": {},
   "source": [
    "# PROPERTIES"
   ]
  },
  {
   "cell_type": "code",
   "execution_count": 6,
   "metadata": {
    "collapsed": false
   },
   "outputs": [],
   "source": [
    "class Square(object):\n",
    "    def __init__(self, side):\n",
    "        self.side = side\n",
    "    \n",
    "    # This is one of the ways to define a property\n",
    "    def aget(self):\n",
    "        return self.side ** 2\n",
    "    def aset(self, value):\n",
    "        # You can actually do something like self.side = value\n",
    "        # But for now, we just say \"no\" as we are not settings any value\n",
    "        print \"no\"\n",
    "    def adel(self, value):\n",
    "        print \"no\"\n",
    "    \n",
    "    area = property(aget, aset, adel, doc='area of square')"
   ]
  },
  {
   "cell_type": "code",
   "execution_count": 7,
   "metadata": {
    "collapsed": true
   },
   "outputs": [],
   "source": [
    "# Creating an instance s of Square class with a side of 5\n",
    "s = Square(5)"
   ]
  },
  {
   "cell_type": "code",
   "execution_count": 8,
   "metadata": {
    "collapsed": false
   },
   "outputs": [
    {
     "data": {
      "text/plain": [
       "25"
      ]
     },
     "execution_count": 8,
     "metadata": {},
     "output_type": "execute_result"
    }
   ],
   "source": [
    "s.area\n",
    "# I access an attribute (in this case 'area' & it produces a result of 25)\n",
    "# So if I access it, it actually calls the 'aget'"
   ]
  },
  {
   "cell_type": "code",
   "execution_count": 11,
   "metadata": {
    "collapsed": false
   },
   "outputs": [
    {
     "name": "stdout",
     "output_type": "stream",
     "text": [
      "no\n"
     ]
    }
   ],
   "source": [
    "# If I try to set it to something, eg:\n",
    "s.area = 27\n",
    "# I will just get a no since I thats what I have defined as the behaviour of aset function"
   ]
  },
  {
   "cell_type": "code",
   "execution_count": 12,
   "metadata": {
    "collapsed": false
   },
   "outputs": [
    {
     "data": {
      "text/plain": [
       "\"\\nSo this is how the properties are written.\\nIts very important that you hide things a little bit.\\nYou have 3 methods before you created the property that you don't really see what they are doing\\nright away, they only make sense when you use them inside property()\\n\\nTherefore there are different ways of writing properties. if you see in the downloaded folder,\\nthere's a directory 'properties' \\n\""
      ]
     },
     "execution_count": 12,
     "metadata": {},
     "output_type": "execute_result"
    }
   ],
   "source": [
    "\"\"\"\n",
    "So this is how the properties are written.\n",
    "Its very important that you hide things a little bit.\n",
    "You have 3 methods before you created the property that you don't really see what they are doing\n",
    "right away, they only make sense when you use them inside property()\n",
    "\n",
    "Therefore there are different ways of writing properties. if you see in the downloaded folder,\n",
    "there's a directory 'properties' \n",
    "\"\"\""
   ]
  },
  {
   "cell_type": "code",
   "execution_count": 13,
   "metadata": {
    "collapsed": false
   },
   "outputs": [
    {
     "name": "stdout",
     "output_type": "stream",
     "text": [
      "/Users/deep/Desktop/deco_meta/properties\n"
     ]
    }
   ],
   "source": [
    "cd properties"
   ]
  },
  {
   "cell_type": "code",
   "execution_count": 15,
   "metadata": {
    "collapsed": false
   },
   "outputs": [
    {
     "name": "stdout",
     "output_type": "stream",
     "text": [
      "\u001b[31msquare.py\u001b[m\u001b[m*        \u001b[31msquare_nested.py\u001b[m\u001b[m*\r\n"
     ]
    }
   ],
   "source": [
    "ls"
   ]
  },
  {
   "cell_type": "code",
   "execution_count": 17,
   "metadata": {
    "collapsed": false
   },
   "outputs": [
    {
     "name": "stdout",
     "output_type": "stream",
     "text": [
      "area: 25\n",
      "try to set\n",
      "Can't set the area\n",
      "area: 25\n",
      "try to delete\n",
      "Can't delete the area.\n",
      "area: 25\n"
     ]
    }
   ],
   "source": [
    "# %load square.py\n",
    "\"\"\"Properties with decorators.\n",
    "\"\"\"\n",
    "\n",
    "from __future__ import print_function\n",
    "\n",
    "class Square(object):\n",
    "    \"\"\"A square using properties with decorators.\n",
    "    \"\"\"\n",
    "\n",
    "    def __init__(self, side):\n",
    "        self.side = side\n",
    "\n",
    "    @property\n",
    "    def area(self):\n",
    "        \"\"\"Calculate the area of the square when the\n",
    "        attribute is accessed.\"\"\"\n",
    "        return self.side * self.side\n",
    "\n",
    "    @area.setter\n",
    "    def area(self, value):\n",
    "        \"\"\"Don't allow setting.\"\"\"\n",
    "        print(\"Can't set the area\")\n",
    "\n",
    "    @area.deleter\n",
    "    def area(self):\n",
    "        \"\"\"Don't allow deleting.\"\"\"\n",
    "        print(\"Can't delete the area.\")\n",
    "\n",
    "\n",
    "if __name__ == '__main__':\n",
    "\n",
    "    square = Square(5)\n",
    "    print('area:', square.area)\n",
    "    print('try to set')\n",
    "    square.area = 10\n",
    "    print('area:', square.area)\n",
    "    print('try to delete')\n",
    "    del square.area\n",
    "    print('area:', square.area)\n"
   ]
  },
  {
   "cell_type": "code",
   "execution_count": null,
   "metadata": {
    "collapsed": true
   },
   "outputs": [],
   "source": [
    "\"\"\"\n",
    "In the above file (square.py), we have used property as a decorator (a decorator is nothing else\n",
    "than a function, that typically takes a function and returns a new function)\n",
    "\n",
    "And that's what we did in the first case when we said area = property(aget, aset, ...).\n",
    "You see the property is a function that takes a bunch of other functions and returns\n",
    "a new function: area\n",
    "\n",
    "Now in this case (square.py) we have to just call area (we don't have to say area = property...)\n",
    "and the definition of area function (def area...) acts as the get function in this case.\n",
    "\n",
    "We can also have setter and deleter methods and strangely enough we use the name of the method area\n",
    "and this one now has properties '.setter' and '.deleter' that gives you a different decorator\n",
    "for this one. That's how it works.\n",
    "\n",
    "The code in square.py is totally equivalent to the first example where we created a property by\n",
    "area = property(....)\n",
    "\n",
    "\"\"\""
   ]
  },
  {
   "cell_type": "code",
   "execution_count": 53,
   "metadata": {
    "collapsed": false
   },
   "outputs": [
    {
     "name": "stdout",
     "output_type": "stream",
     "text": [
      "locals()\n",
      "{'fset': <function fset at 0x10bf95aa0>, 'fdel': <function fdel at 0x10bf95848>, 'fget': <function fget at 0x10bf95320>}\n",
      "names\n",
      "{'fset': <function fset at 0x10bf95aa0>, 'fdel': <function fdel at 0x10bf95848>, 'fget': <function fget at 0x10bf95320>}\n",
      "area: 25\n",
      "try to set\n",
      "Can't set the area\n",
      "area: 25\n",
      "try to delete\n",
      "Can't delete the area.\n",
      "area: 25\n",
      "Property that defines is methods nested.\n",
      "        \n"
     ]
    }
   ],
   "source": [
    "# %load square_nested.py\n",
    "\"\"\"Use a decorator to allow nested properties.\n",
    "\"\"\"\n",
    "\n",
    "from __future__ import print_function\n",
    "\n",
    "def nested_property(func):\n",
    "    \"\"\"Make defining properties simpler.\n",
    "    \"\"\"\n",
    "    names = func()\n",
    "    print('names')\n",
    "    print(names)\n",
    "    # We want the docstring from the decorated function.\n",
    "    # If we do not set 'doc', we get the docstring from `fget`.\n",
    "    names['doc'] = func.__doc__\n",
    "    return property(**names)\n",
    "\n",
    "\n",
    "class Square(object):\n",
    "    \"\"\"A square using properties with decorators.\n",
    "    \"\"\"\n",
    "\n",
    "    def __init__(self, side):\n",
    "        self.side = side\n",
    "\n",
    "    @nested_property\n",
    "    def area():\n",
    "        \"\"\"Property that defines is methods nested.\n",
    "        \"\"\"\n",
    "\n",
    "        def fget(self):\n",
    "            \"\"\"\n",
    "            Calculate the area of the square\n",
    "            when the attribute is accessed.\n",
    "            \"\"\"\n",
    "            return self.side * self.side\n",
    "\n",
    "        def fset(self, value):\n",
    "            \"\"\"Don't allow setting.\"\"\"\n",
    "            print(\"Can't set the area\")\n",
    "\n",
    "        def fdel(self):\n",
    "            \"\"\"Don't allow deleting.\"\"\"\n",
    "            print(\"Can't delete the area.\")\n",
    "        \n",
    "        print('locals()')\n",
    "        print(locals())\n",
    "        return locals()\n",
    "\n",
    "\n",
    "if __name__ == '__main__':\n",
    "\n",
    "    square = Square(5)\n",
    "    print('area:', square.area)\n",
    "    print('try to set')\n",
    "    square.area = 10\n",
    "    print('area:', square.area)\n",
    "    print('try to delete')\n",
    "    del square.area\n",
    "    print('area:', square.area)\n",
    "    print(Square.area.__doc__)\n"
   ]
  },
  {
   "cell_type": "code",
   "execution_count": null,
   "metadata": {
    "collapsed": true
   },
   "outputs": [],
   "source": [
    "\"\"\"\n",
    "# Lets look at square_nested:\n",
    "\n",
    "Now the usage is easy:\n",
    "Now the class Square uses a decorator called nested_property\n",
    "\n",
    "Now we have three functions fget, fset and fdel which do the exactly same thing\n",
    "as in previous case, but these functions are nested.\n",
    "\n",
    "Now you see these belong to the property \"area\" and then he chose to return locals()\n",
    "locals() is a function call that returns a dictionary of local names, in our case, its just three of them\n",
    "fget, fset and fdel.\n",
    "\n",
    "And then I have this nested_property function which is a decorator, takes a function\n",
    "gets the names by calling the functions and then it just adds to names dictionary \n",
    "with key 'doc' and the value the docstring\n",
    "\n",
    "And then we return property(**names), lets look at this in steps...\n",
    "\"\"\""
   ]
  },
  {
   "cell_type": "code",
   "execution_count": 39,
   "metadata": {
    "collapsed": true
   },
   "outputs": [],
   "source": [
    "property?"
   ]
  },
  {
   "cell_type": "code",
   "execution_count": null,
   "metadata": {
    "collapsed": true
   },
   "outputs": [],
   "source": [
    "\"\"\"\n",
    "So when you run the above command 'property?' to get help on property,\n",
    "You will see that property takes keyword arguments, fget, fset and fdel\n",
    "\n",
    "So we have to pass the arguments in exact sequence.\n",
    "What we are doing with property(**names) is passing the key-value pairs in names dictionary\n",
    "to property function call. We get this dictionary when we return locals()\n",
    "\n",
    "locals gives an output like:\n",
    "{'fset': <function fset at 0x10bfba8c0>, \n",
    "'fdel': <function fdel at 0x10bfba7d0>, \n",
    "'fget': <function fget at 0x10bfbab90>}\n",
    "\n",
    "So these act as keyword arguments that we pass to property call in the \n",
    "nested_property function\n",
    "\n",
    "So this is properties and properties can be useful.\n",
    "\n",
    "\"\"\""
   ]
  },
  {
   "cell_type": "markdown",
   "metadata": {},
   "source": [
    "# Data Descriptor"
   ]
  },
  {
   "cell_type": "code",
   "execution_count": 57,
   "metadata": {
    "collapsed": false
   },
   "outputs": [
    {
     "name": "stdout",
     "output_type": "stream",
     "text": [
      "/Users/deep/Desktop/deco_meta/descriptors\n"
     ]
    }
   ],
   "source": [
    "cd ../descriptors"
   ]
  },
  {
   "cell_type": "code",
   "execution_count": 58,
   "metadata": {
    "collapsed": false
   },
   "outputs": [
    {
     "name": "stdout",
     "output_type": "stream",
     "text": [
      "checked.py                    \u001b[31moldstyle.py\u001b[m\u001b[m*\r\n",
      "class_storage.py              weakkeydict_storage.py\r\n",
      "\u001b[31mdatadescriptor.py\u001b[m\u001b[m*            weakkeydict_storage_break.py\r\n",
      "instance_storage.py\r\n"
     ]
    }
   ],
   "source": [
    "ls"
   ]
  },
  {
   "cell_type": "code",
   "execution_count": 61,
   "metadata": {
    "collapsed": true
   },
   "outputs": [],
   "source": [
    "# %load datadescriptor.py\n",
    "\"\"\"A typical data descriptor.\n",
    "\"\"\"\n",
    "\n",
    "from __future__ import print_function\n",
    "\n",
    "class DataDescriptor(object):\n",
    "    \"\"\"A simple descriptor.\n",
    "    \"\"\"\n",
    "    def __init__(self):\n",
    "        self.value = 0\n",
    "    def __get__(self, instance, cls):\n",
    "        print('data descriptor __get__')\n",
    "        return self.value\n",
    "    def __set__(self, instance, value):\n",
    "        print('data descriptor __set__')\n",
    "        try:\n",
    "            self.value = value.upper()\n",
    "        except AttributeError:\n",
    "            self.value = value\n",
    "    def __delete__(self, instance):\n",
    "        print(\"Don't like to be deleted.\" )\n"
   ]
  },
  {
   "cell_type": "code",
   "execution_count": 60,
   "metadata": {
    "collapsed": true
   },
   "outputs": [],
   "source": [
    "\"\"\"\n",
    "The file above (datadescriptor.py) is a data descriptor and this descriptor is kind of different than a property\n",
    "because this its more general\n",
    "If you have a get and a set, you have a data descriptor. If you only have a get, then you have a non data descriptor.\n",
    "More: https://docs.python.org/3/howto/descriptor.html under Descriptor Protocol heading\n",
    "\n",
    "They don't do much. You see the get must have the instance and class as shown above (in datadescriptor.py)\n",
    "And the only thing I do is, I just print something in the get function and I return the value (set in __init__ in this case)\n",
    "\n",
    "And the same thing if its a set function, it has an instance and a value. I print something and then I try to set\n",
    "the value to value.upper() passed in __set__, I catch the error that if its not a string (hence it doesn't have upper\n",
    "function). I just use the value itself (as shown in except block: self.value = value)\n",
    "\n",
    "And the delete is not implemented.\n",
    "\n",
    "This is how a descriptor is defined. This is the protocol to define a descriptor. The __delete__ doesn't necessarily\n",
    "have to be there.\n",
    "\n",
    "Now, what you can do with a descriptor, you dont normally make instance descriptors solely used.\n",
    "Lets make a new class Strange (as below) and use our descriptor (DataDescriptor) in there\n",
    "\n",
    "\"\"\"\n",
    "AttributeError?"
   ]
  },
  {
   "cell_type": "code",
   "execution_count": 64,
   "metadata": {
    "collapsed": true
   },
   "outputs": [],
   "source": [
    "\"\"\"\n",
    "So I am creating a class by name \"Strange\" inheriting from object\n",
    "I define an attribute (attr) which is my DataDescriptor\n",
    "\n",
    "So that's typically how you use a data descriptor, so you create class attributes and since its a class attribute\n",
    "you have to do it in a class (if you do out of the class it doesn't work- it doesn't do what you want)\n",
    "\n",
    "And now you can go ahead, you can make instance of the class and then see what's going on\n",
    "\"\"\"\n",
    "\n",
    "class Strange(object):\n",
    "    attr = DataDescriptor()"
   ]
  },
  {
   "cell_type": "code",
   "execution_count": 66,
   "metadata": {
    "collapsed": false
   },
   "outputs": [],
   "source": [
    "\"Making an instance of StrangeClass to see how it works\"\n",
    "s = Strange()"
   ]
  },
  {
   "cell_type": "code",
   "execution_count": 71,
   "metadata": {
    "collapsed": false
   },
   "outputs": [
    {
     "name": "stdout",
     "output_type": "stream",
     "text": [
      "data descriptor __get__\n"
     ]
    },
    {
     "data": {
      "text/plain": [
       "0"
      ]
     },
     "execution_count": 71,
     "metadata": {},
     "output_type": "execute_result"
    }
   ],
   "source": [
    "\"\"\"\n",
    "Now if I execute s.attr you see \"data descriptor __get__\" which is what I printed in DataDescriptor.__get__ function\n",
    "and it returns value 0 which is what was set in the __init__ method of DataDescriptor class and returned in its \n",
    "__get__ function\n",
    "\n",
    "So I intercept the attribute access in a different way than the property so its more general\n",
    "\n",
    "And when I access the attribute (attr) in my case something happens and it happens what I programmed in the __get__\n",
    "function of the descriptor\n",
    "\n",
    "\"\"\"\n",
    "s.attr"
   ]
  },
  {
   "cell_type": "code",
   "execution_count": 94,
   "metadata": {
    "collapsed": false
   },
   "outputs": [
    {
     "name": "stdout",
     "output_type": "stream",
     "text": [
      "----\n",
      "<class '__main__.Strange'>\n",
      "----\n",
      "{'__dict__': <attribute '__dict__' of 'Strange' objects>, '__module__': '__main__', '__weakref__': <attribute '__weakref__' of 'Strange' objects>, 'attr': <__main__.DataDescriptor object at 0x10be78c50>, '__doc__': None}\n",
      "----\n",
      "<class '__main__.Strange'>\n",
      "----\n",
      "<__main__.DataDescriptor object at 0x10be78c50>\n",
      "----\n",
      "data descriptor __get__\n",
      "0\n",
      "----\n",
      "data descriptor __get__\n",
      "0\n"
     ]
    }
   ],
   "source": [
    "\"\"\"\n",
    "Lets see what happens behind the scenes when you access attr\n",
    "type(s) returns __main__.Strange because this attribute is always in the class\n",
    "type(s).__dict__ - With this, you go inside the dictionary, the dictionary is just the namespace to all that appears\n",
    "allocated\n",
    "\"\"\"\n",
    "print('----')\n",
    "print(type(s))\n",
    "print('----')\n",
    "print(type(s).__dict__)\n",
    "print('----')\n",
    "print(type(s))\n",
    "\n",
    "\"\"\"\n",
    "And in this dictionary I get the 'attr' attribute\n",
    "\"\"\"\n",
    "\n",
    "print('----')\n",
    "print(type(s).__dict__['attr'])\n",
    "\"\"\"\n",
    "Now this one, actually call the get method and it has to be put in the instance and the class\n",
    "\"\"\"\n",
    "print('----')\n",
    "print(type(s).__dict__['attr'].__get__(s, type(s))) # To get the class, I used type(s), I could also directly type \"Strange\"\n",
    "\"\"\"\n",
    "So when you call s.attr (s is an instance of Strange class and attr is the attribute defined in Strange class)\n",
    "this is what happens in the background - Quite a bit of lookups!\n",
    "\n",
    "This allows you to determine what you want to happen when someone accesses the attribute\n",
    "\"\"\"\n",
    "print('----')\n",
    "print(s.attr)"
   ]
  },
  {
   "cell_type": "code",
   "execution_count": 96,
   "metadata": {
    "collapsed": false
   },
   "outputs": [
    {
     "data": {
      "text/plain": [
       "dict_proxy({'__dict__': <attribute '__dict__' of 'Strange' objects>,\n",
       "            '__doc__': None,\n",
       "            '__module__': '__main__',\n",
       "            '__weakref__': <attribute '__weakref__' of 'Strange' objects>,\n",
       "            'attr': <__main__.DataDescriptor at 0x10be78c50>})"
      ]
     },
     "execution_count": 96,
     "metadata": {},
     "output_type": "execute_result"
    }
   ],
   "source": [
    "\"\"\"\n",
    "If you look inside the class, typically its a dictionary inside a dictionary\n",
    "Its called MappingProxy from Python 3.3 onwards, previously known as dict_proxy and hence its read-only\n",
    "\n",
    "And most of the time you don't bother to do anything with it, its just information to see whats on the inside\n",
    "And this is the namespace\n",
    "\n",
    "So when you say . something typically that looks inside a dict, when you see it as a data descriptor\n",
    "it has no attr, the name attr is the data descriptor so it has no 0 value, but when you say s.attr\n",
    "you get back a 0 (zero). That's how it works\n",
    "\n",
    "\"\"\"\n",
    "Strange.__dict__ "
   ]
  },
  {
   "cell_type": "code",
   "execution_count": 97,
   "metadata": {
    "collapsed": false
   },
   "outputs": [
    {
     "name": "stdout",
     "output_type": "stream",
     "text": [
      "data descriptor __set__\n"
     ]
    }
   ],
   "source": [
    "\"\"\"\n",
    "So that's how it is implemented.\n",
    "I can also set it...\n",
    "\"\"\"\n",
    "s.attr = 10  # Something else"
   ]
  },
  {
   "cell_type": "code",
   "execution_count": 98,
   "metadata": {
    "collapsed": false
   },
   "outputs": [
    {
     "name": "stdout",
     "output_type": "stream",
     "text": [
      "data descriptor __get__\n"
     ]
    },
    {
     "data": {
      "text/plain": [
       "10"
      ]
     },
     "execution_count": 98,
     "metadata": {},
     "output_type": "execute_result"
    }
   ],
   "source": [
    "\"\"\"\n",
    "And now if I get my attribute back, I get follows:\n",
    "\"\"\"\n",
    "s.attr"
   ]
  },
  {
   "cell_type": "code",
   "execution_count": 99,
   "metadata": {
    "collapsed": false
   },
   "outputs": [
    {
     "name": "stdout",
     "output_type": "stream",
     "text": [
      "data descriptor __set__\n"
     ]
    }
   ],
   "source": [
    "\"\"\"\n",
    "I can also say\n",
    "\"\"\"\n",
    "s.attr = 'abc'"
   ]
  },
  {
   "cell_type": "code",
   "execution_count": 102,
   "metadata": {
    "collapsed": false
   },
   "outputs": [
    {
     "name": "stdout",
     "output_type": "stream",
     "text": [
      "data descriptor __get__\n",
      "ABC\n"
     ]
    }
   ],
   "source": [
    "\"\"\"\n",
    "And now if try to get my attribute back its uppercased (as was defined in Data Descriptor's __set__ method)\n",
    "So you have the power to determine what happens if something accesses an attribute\n",
    "and if somebody sets an attribute\n",
    "\"\"\"\n",
    "print(s.attr)"
   ]
  },
  {
   "cell_type": "code",
   "execution_count": 103,
   "metadata": {
    "collapsed": false
   },
   "outputs": [
    {
     "name": "stdout",
     "output_type": "stream",
     "text": [
      "data descriptor __get__\n"
     ]
    },
    {
     "data": {
      "text/plain": [
       "'ABC'"
      ]
     },
     "execution_count": 103,
     "metadata": {},
     "output_type": "execute_result"
    }
   ],
   "source": [
    "\"\"\"And that's what the descriptor is all about.\n",
    "It gives you the power to do something with attribute access\n",
    "The descriptors are always stored in the class\n",
    "\"\"\"\n",
    "Strange.attr"
   ]
  },
  {
   "cell_type": "code",
   "execution_count": 108,
   "metadata": {
    "collapsed": false
   },
   "outputs": [
    {
     "data": {
      "text/plain": [
       "{}"
      ]
     },
     "execution_count": 108,
     "metadata": {},
     "output_type": "execute_result"
    }
   ],
   "source": [
    "\"\"\"\n",
    "But if you try to access an attribute instance there's not an instance dictionary\n",
    "so my instance dictionary is empty\n",
    "If we would have had an __init__ with a self, that would have been stored in the instance dictionary\n",
    "\"\"\"\n",
    "s.__dict__"
   ]
  },
  {
   "cell_type": "code",
   "execution_count": 109,
   "metadata": {
    "collapsed": false
   },
   "outputs": [
    {
     "name": "stdout",
     "output_type": "stream",
     "text": [
      "Don't like to be deleted.\n"
     ]
    }
   ],
   "source": [
    "\"\"\"\n",
    "And of course if I try to delete it, it doesn't like it, because it doesn't actually try to delete\n",
    "the attribute from the instance, it goes to the descriptor and gets this message (as defined in\n",
    "__delete__ method)\n",
    "\"\"\"\n",
    "del s.attr"
   ]
  },
  {
   "cell_type": "code",
   "execution_count": 114,
   "metadata": {
    "collapsed": true
   },
   "outputs": [],
   "source": [
    "\"\"\"\n",
    "Lets look at a non data descriptor\n",
    "Non Data descriptors are actually used quite a bit in Python\n",
    "\"\"\"\n",
    "\n",
    "class NonDataDescriptor(object):\n",
    "    \"\"\"\n",
    "    There's no __set__ method in this case since its a non data descriptor\n",
    "    \"\"\"\n",
    "    def __init__(self):\n",
    "        self.value = 0\n",
    "    def __get__(self, instance, cls):\n",
    "        print('Called __get__')\n",
    "        return self.value + 10"
   ]
  },
  {
   "cell_type": "code",
   "execution_count": 115,
   "metadata": {
    "collapsed": true
   },
   "outputs": [],
   "source": [
    "class AddTen(object):\n",
    "    attr = NonDataDescriptor()"
   ]
  },
  {
   "cell_type": "code",
   "execution_count": 116,
   "metadata": {
    "collapsed": true
   },
   "outputs": [],
   "source": [
    "ten = AddTen()"
   ]
  },
  {
   "cell_type": "code",
   "execution_count": 119,
   "metadata": {
    "collapsed": false
   },
   "outputs": [
    {
     "name": "stdout",
     "output_type": "stream",
     "text": [
      "Called __get__\n"
     ]
    },
    {
     "data": {
      "text/plain": [
       "10"
      ]
     },
     "execution_count": 119,
     "metadata": {},
     "output_type": "execute_result"
    }
   ],
   "source": [
    "\"\"\"\n",
    "so the __get__ is called\n",
    "\"\"\"\n",
    "ten.attr"
   ]
  },
  {
   "cell_type": "code",
   "execution_count": 120,
   "metadata": {
    "collapsed": false
   },
   "outputs": [
    {
     "data": {
      "text/plain": [
       "{}"
      ]
     },
     "execution_count": 120,
     "metadata": {},
     "output_type": "execute_result"
    }
   ],
   "source": [
    "\"\"\"\n",
    "But there's no set\n",
    "the instance's dictionary is empty since the attribute is saved in the class\n",
    "\"\"\"\n",
    "ten.__dict__"
   ]
  },
  {
   "cell_type": "code",
   "execution_count": 121,
   "metadata": {
    "collapsed": true
   },
   "outputs": [],
   "source": [
    "\"\"\"\n",
    "if I try to set attr to something\n",
    "\"\"\"\n",
    "ten.attr = 'something'"
   ]
  },
  {
   "cell_type": "code",
   "execution_count": 122,
   "metadata": {
    "collapsed": false
   },
   "outputs": [
    {
     "data": {
      "text/plain": [
       "'something'"
      ]
     },
     "execution_count": 122,
     "metadata": {},
     "output_type": "execute_result"
    }
   ],
   "source": [
    "ten.attr"
   ]
  },
  {
   "cell_type": "code",
   "execution_count": 124,
   "metadata": {
    "collapsed": false
   },
   "outputs": [
    {
     "data": {
      "text/plain": [
       "{'attr': 'something'}"
      ]
     },
     "execution_count": 124,
     "metadata": {},
     "output_type": "execute_result"
    }
   ],
   "source": [
    "\"\"\"\n",
    "Now if you look into dictionary of ten, the 'attr' is set to 'something'. Previously the 'attr'\n",
    "didn't even exist in the instance dictionary\n",
    "\"\"\"\n",
    "ten.__dict__"
   ]
  },
  {
   "cell_type": "code",
   "execution_count": 126,
   "metadata": {
    "collapsed": false
   },
   "outputs": [
    {
     "data": {
      "text/plain": [
       "'something'"
      ]
     },
     "execution_count": 126,
     "metadata": {},
     "output_type": "execute_result"
    }
   ],
   "source": [
    "\"\"\"\n",
    "So the precedence is that, if ten.attr exists in its own dictionary, it picks it up from there\n",
    "else it goes to class descriptor\n",
    "If they also set a descriptor, I won't get there because the descriptor is intercepted.  \n",
    "\"\"\"\n",
    "ten.attr"
   ]
  },
  {
   "cell_type": "code",
   "execution_count": null,
   "metadata": {
    "collapsed": true
   },
   "outputs": [],
   "source": [
    "\"\"\"\n",
    "When you want to use descriptors, you have to write new style classes (i.e. the classes must\n",
    "inherit from object, else you will get some weird errors)\n",
    "This is the main thing about how descriptors work\n",
    "\"\"\""
   ]
  },
  {
   "cell_type": "code",
   "execution_count": 129,
   "metadata": {
    "collapsed": true
   },
   "outputs": [],
   "source": [
    "\"\"\"\n",
    "Lets look at two more attributes:\n",
    "__getattr__\n",
    "__getattribute__\n",
    "\n",
    "__getattribute__ is called when you are trying to access an attribute. If the attribute exists\n",
    "it returns its value, else it passes on to __getattr__\n",
    "\n",
    "So __getattribute__ is the first one that will be called\n",
    "\n",
    "So if you had implemented __getattribute__ then inside __getattribute__, you should never say\n",
    "'self.' because when you say 'self.' it calls __getattribute__ which again calls 'self.' and \n",
    "so on it goes into recursive thing and after a thousand times you get recursion limit error.\n",
    "\n",
    "__getattribute__ is not that often used but its pretty strong therefore you actually override \n",
    "the data descriptor when you implement the __getattribute__\n",
    "Lets have a look:\n",
    "\"\"\"\n",
    "\n",
    "class Overridden(object):\n",
    "    attr = DataDescriptor()\n",
    "    \n",
    "    # Now I implement __getattribute__\n",
    "    def __getattribute__(self, name):\n",
    "        print('no way')"
   ]
  },
  {
   "cell_type": "code",
   "execution_count": 130,
   "metadata": {
    "collapsed": false
   },
   "outputs": [
    {
     "name": "stdout",
     "output_type": "stream",
     "text": [
      "no way\n"
     ]
    }
   ],
   "source": [
    "\"\"\"\n",
    "Now lets make an instance of Overridden class and try to access its 'attr'\n",
    "it returns \"no way\" defined inside __getattribute__ since __getattribute__ did an override on\n",
    "DataDescriptor and hence its internet __get__ method wasn't called\n",
    "\"\"\"\n",
    "o = Overridden()\n",
    "o.attr"
   ]
  },
  {
   "cell_type": "code",
   "execution_count": 131,
   "metadata": {
    "collapsed": false
   },
   "outputs": [
    {
     "name": "stdout",
     "output_type": "stream",
     "text": [
      "data descriptor __get__\n"
     ]
    },
    {
     "data": {
      "text/plain": [
       "0"
      ]
     },
     "execution_count": 131,
     "metadata": {},
     "output_type": "execute_result"
    }
   ],
   "source": [
    "\"\"\"\n",
    "if you didn't have __getattribute__ function defined inside the class then calling o.Overriden()\n",
    "would have returned the output from __get__ function of DataDescriptor. Lets try it out!\n",
    "\n",
    "Hence it shows that the __getattribute__ is STRONGER than the descriptor\n",
    "Its important to know this since if you have __getattribute__ you won't be able to access the\n",
    "data descriptor\n",
    "\"\"\"\n",
    "class Overridden(object):\n",
    "    \"\"\"\n",
    "    Without __getattribute__ method\n",
    "    \"\"\"\n",
    "    attr = DataDescriptor()\n",
    "\n",
    "o = Overridden()\n",
    "o.attr"
   ]
  },
  {
   "cell_type": "markdown",
   "metadata": {},
   "source": [
    "# Functions (as non data descriptors)"
   ]
  },
  {
   "cell_type": "code",
   "execution_count": 133,
   "metadata": {
    "collapsed": true
   },
   "outputs": [],
   "source": [
    "def func():\n",
    "    pass"
   ]
  },
  {
   "cell_type": "code",
   "execution_count": 137,
   "metadata": {
    "collapsed": false
   },
   "outputs": [
    {
     "name": "stdout",
     "output_type": "stream",
     "text": [
      "<method-wrapper '__get__' of function object at 0x10bfbaf50>\n"
     ]
    }
   ],
   "source": [
    "\"\"\"\n",
    "Now if you look at it, the function has __get__ method\n",
    "\"\"\"\n",
    "print(func.__get__)"
   ]
  },
  {
   "cell_type": "code",
   "execution_count": 140,
   "metadata": {
    "collapsed": false
   },
   "outputs": [
    {
     "ename": "AttributeError",
     "evalue": "'function' object has no attribute '__set__'",
     "output_type": "error",
     "traceback": [
      "\u001b[0;31m---------------------------------------------------------------------------\u001b[0m",
      "\u001b[0;31mAttributeError\u001b[0m                            Traceback (most recent call last)",
      "\u001b[0;32m<ipython-input-140-0ae611a71219>\u001b[0m in \u001b[0;36m<module>\u001b[0;34m()\u001b[0m\n\u001b[1;32m      2\u001b[0m \u001b[0mSince\u001b[0m \u001b[0mby\u001b[0m \u001b[0mdefault\u001b[0m \u001b[0mits\u001b[0m \u001b[0ma\u001b[0m \u001b[0mnon\u001b[0m \u001b[0mdata\u001b[0m \u001b[0mdescriptor\u001b[0m \u001b[0;34m(\u001b[0m\u001b[0mit\u001b[0m \u001b[0mdoesn\u001b[0m\u001b[0;31m'\u001b[0m\u001b[0mt\u001b[0m \u001b[0mhave\u001b[0m \u001b[0m__set__\u001b[0m\u001b[0;34m)\u001b[0m\u001b[0;34m\u001b[0m\u001b[0m\n\u001b[1;32m      3\u001b[0m \"\"\"\n\u001b[0;32m----> 4\u001b[0;31m \u001b[0mfunc\u001b[0m\u001b[0;34m.\u001b[0m\u001b[0m__set__\u001b[0m\u001b[0;34m\u001b[0m\u001b[0m\n\u001b[0m",
      "\u001b[0;31mAttributeError\u001b[0m: 'function' object has no attribute '__set__'"
     ]
    }
   ],
   "source": [
    "\"\"\"\n",
    "Since by default its a non data descriptor (it doesn't have __set__)\n",
    "\"\"\"\n",
    "func.__set__"
   ]
  },
  {
   "cell_type": "code",
   "execution_count": 141,
   "metadata": {
    "collapsed": true
   },
   "outputs": [],
   "source": [
    "\"\"\"\n",
    "Now lets define a class\n",
    "\"\"\"\n",
    "class A(object):\n",
    "    def meth(self):\n",
    "        pass"
   ]
  },
  {
   "cell_type": "code",
   "execution_count": 142,
   "metadata": {
    "collapsed": true
   },
   "outputs": [],
   "source": [
    "a = A()"
   ]
  },
  {
   "cell_type": "code",
   "execution_count": 146,
   "metadata": {
    "collapsed": false
   },
   "outputs": [
    {
     "data": {
      "text/plain": [
       "<bound method A.meth of <__main__.A object at 0x10bfc61d0>>"
      ]
     },
     "execution_count": 146,
     "metadata": {},
     "output_type": "execute_result"
    }
   ],
   "source": [
    "\"\"\"\n",
    "And if you look the method 'meth' on the instance of the class, its a bound method\n",
    "\"\"\"\n",
    "a.meth"
   ]
  },
  {
   "cell_type": "code",
   "execution_count": 147,
   "metadata": {
    "collapsed": false
   },
   "outputs": [
    {
     "data": {
      "text/plain": [
       "<unbound method A.meth>"
      ]
     },
     "execution_count": 147,
     "metadata": {},
     "output_type": "execute_result"
    }
   ],
   "source": [
    "\"\"\"\n",
    "But if you call it with the class itself, you have an unbound method or function\n",
    "\"\"\"\n",
    "A.meth"
   ]
  },
  {
   "cell_type": "code",
   "execution_count": 155,
   "metadata": {
    "collapsed": false
   },
   "outputs": [
    {
     "data": {
      "text/plain": [
       "<bound method A.meth of <__main__.A object at 0x10bfc61d0>>"
      ]
     },
     "execution_count": 155,
     "metadata": {},
     "output_type": "execute_result"
    }
   ],
   "source": [
    "\"\"\"\n",
    "Now lets see how to you get from unbound function/method to bound method\n",
    "For this we go the same way as we did before in In [94] - type(s).__dict__['attr'].__get__(s, type(s))\n",
    "\"\"\"\n",
    "type(a).__dict__['meth'].__get__(a, type(a)) # the get method takes the instance and the class"
   ]
  },
  {
   "cell_type": "code",
   "execution_count": null,
   "metadata": {
    "collapsed": true
   },
   "outputs": [],
   "source": [
    "\"\"\"\n",
    "So as soon as you write classes and you use method, you use the non data descriptor\n",
    "These are interesting details not too useful generally, but gives a better idea of how things\n",
    "work internally.\n",
    "Now we get a bit more practical first, We need to understand how these descriptors work with\n",
    "the help of few examples then we will do some exercises on them\n",
    "\n",
    "Descriptors work in the class and this is something you have to know because if you don't\n",
    "you might end up getting some strange impact\n",
    "\n",
    "If you use descriptors you have to be aware that you store attributes in the class\n",
    "\n",
    "Lets look at class_storage.py\n",
    "\"\"\""
   ]
  },
  {
   "cell_type": "code",
   "execution_count": 157,
   "metadata": {
    "collapsed": false
   },
   "outputs": [
    {
     "name": "stdout",
     "output_type": "stream",
     "text": [
      "store1 10\n",
      "store2 10\n",
      "Setting store1 only.\n",
      "store1 100\n",
      "store2 100\n"
     ]
    }
   ],
   "source": [
    "# %load class_storage.py\n",
    "\n",
    "\"\"\"A descriptor works only in a class.\n",
    "\n",
    "Storing attribute data directly in a descriptor\n",
    "means sharing between instances.\n",
    "\"\"\"\n",
    "\n",
    "from __future__ import print_function\n",
    "\n",
    "\n",
    "class DescriptorClassStorage(object):\n",
    "    \"\"\"Descriptor storing data in class.\"\"\"\n",
    "\n",
    "    def __init__(self, default=None):\n",
    "        self.value = default\n",
    "\n",
    "    def __get__(self, instance, owner):\n",
    "        return self.value\n",
    "\n",
    "    def __set__(self, instance, value):\n",
    "        self.value = value\n",
    "\n",
    "\n",
    "if __name__ == '__main__':\n",
    "    class StoreClass(object):\n",
    "        \"\"\"All instances will share `attr`.\n",
    "        \"\"\"\n",
    "        attr = DescriptorClassStorage(10)\n",
    "\n",
    "    store1 = StoreClass()\n",
    "    store2 = StoreClass()\n",
    "    print('store1', store1.attr)\n",
    "    print('store2', store2.attr)\n",
    "    print('Setting store1 only.')\n",
    "    store1.attr = 100\n",
    "    print('store1', store1.attr)\n",
    "    print('store2', store2.attr)\n"
   ]
  },
  {
   "cell_type": "code",
   "execution_count": null,
   "metadata": {
    "collapsed": true
   },
   "outputs": [],
   "source": [
    "\"\"\"\n",
    "So here we have a descriptor and again we set a value (which was default=None). We have a get\n",
    "and a set. They don't do anything special.\n",
    "\n",
    "And then in the if __name__ == \"__main__\" section, I used the descriptor inside the StoreClass\n",
    "and set the value to 10\n",
    "\n",
    "And then I made two instances of my class store1 and store2\n",
    "\n",
    "Then I change only the attr value of store1 and print both again, and when I print both,\n",
    "the values for both are changed.\n",
    "Because the value is stored in the descriptor and the descriptor is inside the class. So you\n",
    "have two instances but only one class, hence changing value using any instance changes the value\n",
    "inside the class and when I access this attribute, no matter what instance I use, I will have\n",
    "the same value\n",
    "\n",
    "Now lets look at an alternative approach where the things are saved in an instance actually\n",
    "weakkeydict_storage.py\n",
    "\"\"\""
   ]
  },
  {
   "cell_type": "code",
   "execution_count": 4,
   "metadata": {
    "collapsed": false
   },
   "outputs": [
    {
     "name": "stdout",
     "output_type": "stream",
     "text": [
      "store1 attr1 10\n",
      "store2 attr1 10\n",
      "store1 attr2 -5\n",
      "store2 attr2 -5\n",
      "Setting store1 only.\n",
      "store1 attr1 100\n",
      "store2 attr1 10\n",
      "store1 attr2 -123\n",
      "store2 attr2 -5\n",
      "_hidden: [(<__main__.StoreInstance object at 0x11047cd50>, 100)]\n",
      "_hidden: [(<__main__.StoreInstance object at 0x11047cd50>, -123)]\n",
      "Deleted store1\n",
      "_hidden: []\n"
     ]
    }
   ],
   "source": [
    "# %load weakkeydict_storage.py\n",
    "\n",
    "\"\"\"A descriptor works only in a class.\n",
    "\n",
    "We can store a different value for each instance in a dictionary\n",
    "in the descriptor.\n",
    "\"\"\"\n",
    "\n",
    "from __future__ import print_function\n",
    "\n",
    "from weakref import WeakKeyDictionary\n",
    "\n",
    "\n",
    "class DescriptorWeakKeyDictStorage(object):\n",
    "    \"\"\"Descriptor that stores attribute data in instances.\n",
    "    \"\"\"\n",
    "\n",
    "    def __init__(self, default=None):\n",
    "        self._hidden = WeakKeyDictionary()\n",
    "        self.default = default\n",
    "\n",
    "    def __get__(self, instance, owner):\n",
    "        return self._hidden.get(instance, self.default)\n",
    "\n",
    "    def __set__(self, instance, value):\n",
    "       self._hidden[instance] = value\n",
    "\n",
    "\n",
    "if __name__ == '__main__':\n",
    "    class StoreInstance(object):\n",
    "        \"\"\"All instances have own `attr`.\n",
    "        \"\"\"\n",
    "        attr1 = DescriptorWeakKeyDictStorage(10)\n",
    "        attr2 = DescriptorWeakKeyDictStorage(-5)\n",
    "\n",
    "\n",
    "    store1 = StoreInstance()\n",
    "    store2 = StoreInstance()\n",
    "    print('store1 attr1', store1.attr1)\n",
    "    print('store2 attr1', store2.attr1)\n",
    "    print('store1 attr2', store1.attr2)\n",
    "    print('store2 attr2', store2.attr2)\n",
    "    print('Setting store1 only.')\n",
    "    store1.attr1 = 100\n",
    "    store1.attr2 = -123\n",
    "    print('store1 attr1', store1.attr1)\n",
    "    print('store2 attr1', store2.attr1)\n",
    "    print('store1 attr2', store1.attr2)\n",
    "    print('store2 attr2', store2.attr2)\n",
    "    print('_hidden:', list(StoreInstance.__dict__['attr1']._hidden.items()))\n",
    "    print('_hidden:', list(StoreInstance.__dict__['attr2']._hidden.items()))\n",
    "    del store1\n",
    "    print('Deleted store1')\n",
    "    print('_hidden:', list(StoreInstance.__dict__['attr1']._hidden.items()))\n",
    "\n"
   ]
  },
  {
   "cell_type": "code",
   "execution_count": null,
   "metadata": {
    "collapsed": true
   },
   "outputs": [],
   "source": [
    "\"\"\"\n",
    "Here we are using the weakref module in Python. if I store some references to some objects\n",
    "that are not being used anywhere else, these references will go away as well. Hence the objects\n",
    "will not be stored simply because they are being referred by something.\n",
    "\n",
    "And in this case we use a special dictionary the WeakKeyDictionary so that if the object goes\n",
    "away, the key-value pair will be deleted from the dictionary.\n",
    "\n",
    "So in the __init__ for descriptor I have self._hidden that is a WeakKeyDictionary instance,\n",
    "the interface is same as a normal dictionary\n",
    "\n",
    "And then in the get method for descriptor I use get function over my WeakKeyDictionary instance\n",
    "(_hidden) to get the value for key=instance (this assumes that the instance is hashable).\n",
    "If the key instance doesn't exist, it returns self.default as output. So this is just a\n",
    "normal dictionary lookup\n",
    "\n",
    "And __set__ is the same, I use _hidden as the dictionary and set the value for `instance` key as\n",
    "`value` (both instance and value are passed as parametered to set function)\n",
    "\n",
    "And now we do the same application as before, we create a class StoreInstance nested in \n",
    "`if __name__...` section\n",
    "\n",
    "The class StoreInstance() has two descriptors with two different numbers.\n",
    "We make two instances of StoreInstance() class and print them out\n",
    "And then we start changing them around.\n",
    "\n",
    "\"\"\""
   ]
  },
  {
   "cell_type": "code",
   "execution_count": 5,
   "metadata": {
    "collapsed": false
   },
   "outputs": [
    {
     "name": "stdout",
     "output_type": "stream",
     "text": [
      "Descriptors.ipynb                    descriptors_metaclasses_handout.pdf\r\n",
      "\u001b[34mdeco_meta\u001b[m\u001b[m/                           \u001b[34mmetaclasses\u001b[m\u001b[m/\r\n",
      "deco_meta notes                      \u001b[34mproperties\u001b[m\u001b[m/\r\n",
      "\u001b[34mdescriptors\u001b[m\u001b[m/                         survey_link.txt\r\n"
     ]
    }
   ],
   "source": [
    "ls"
   ]
  },
  {
   "cell_type": "code",
   "execution_count": 6,
   "metadata": {
    "collapsed": false
   },
   "outputs": [
    {
     "name": "stdout",
     "output_type": "stream",
     "text": [
      "/Users/deep/Desktop/deco_meta/descriptors\n"
     ]
    }
   ],
   "source": [
    "cd descriptors/"
   ]
  },
  {
   "cell_type": "code",
   "execution_count": 7,
   "metadata": {
    "collapsed": false
   },
   "outputs": [
    {
     "name": "stdout",
     "output_type": "stream",
     "text": [
      "checked.py                    \u001b[31moldstyle.py\u001b[m\u001b[m*\r\n",
      "class_storage.py              weakkeydict_storage.py\r\n",
      "\u001b[31mdatadescriptor.py\u001b[m\u001b[m*            weakkeydict_storage_break.py\r\n",
      "instance_storage.py\r\n"
     ]
    }
   ],
   "source": [
    "ls"
   ]
  },
  {
   "cell_type": "code",
   "execution_count": 12,
   "metadata": {
    "collapsed": false
   },
   "outputs": [
    {
     "ename": "NotImplementedError",
     "evalue": "",
     "output_type": "error",
     "traceback": [
      "\u001b[0;31m---------------------------------------------------------------------------\u001b[0m",
      "\u001b[0;31mNotImplementedError\u001b[0m                       Traceback (most recent call last)",
      "\u001b[0;32m<ipython-input-12-66ed34f1f71d>\u001b[0m in \u001b[0;36m<module>\u001b[0;34m()\u001b[0m\n\u001b[1;32m     16\u001b[0m \u001b[0mstore1\u001b[0m \u001b[0;34m=\u001b[0m \u001b[0mStoreInstance\u001b[0m\u001b[0;34m(\u001b[0m\u001b[0;34m)\u001b[0m\u001b[0;34m\u001b[0m\u001b[0m\n\u001b[1;32m     17\u001b[0m \u001b[0mstore2\u001b[0m \u001b[0;34m=\u001b[0m \u001b[0mStoreInstance\u001b[0m\u001b[0;34m(\u001b[0m\u001b[0;34m)\u001b[0m\u001b[0;34m\u001b[0m\u001b[0m\n\u001b[0;32m---> 18\u001b[0;31m \u001b[0;32mprint\u001b[0m\u001b[0;34m(\u001b[0m\u001b[0;34m'store1'\u001b[0m\u001b[0;34m,\u001b[0m \u001b[0mstore1\u001b[0m\u001b[0;34m.\u001b[0m\u001b[0mattr1\u001b[0m\u001b[0;34m)\u001b[0m\u001b[0;34m\u001b[0m\u001b[0m\n\u001b[0m\u001b[1;32m     19\u001b[0m \u001b[0;32mprint\u001b[0m\u001b[0;34m(\u001b[0m\u001b[0;34m'store2'\u001b[0m\u001b[0;34m,\u001b[0m \u001b[0mstore2\u001b[0m\u001b[0;34m.\u001b[0m\u001b[0mattr1\u001b[0m\u001b[0;34m)\u001b[0m\u001b[0;34m\u001b[0m\u001b[0m\n\u001b[1;32m     20\u001b[0m \u001b[0;32mprint\u001b[0m\u001b[0;34m(\u001b[0m\u001b[0;34m'Setting store1 only.'\u001b[0m\u001b[0;34m)\u001b[0m\u001b[0;34m\u001b[0m\u001b[0m\n",
      "\u001b[0;32m/Users/deep/Desktop/deco_meta/descriptors/weakkeydict_storage.py\u001b[0m in \u001b[0;36m__get__\u001b[0;34m(self, instance, owner)\u001b[0m\n\u001b[1;32m     21\u001b[0m \u001b[0;34m\u001b[0m\u001b[0m\n\u001b[1;32m     22\u001b[0m     \u001b[0;32mdef\u001b[0m \u001b[0m__get__\u001b[0m\u001b[0;34m(\u001b[0m\u001b[0mself\u001b[0m\u001b[0;34m,\u001b[0m \u001b[0minstance\u001b[0m\u001b[0;34m,\u001b[0m \u001b[0mowner\u001b[0m\u001b[0;34m)\u001b[0m\u001b[0;34m:\u001b[0m\u001b[0;34m\u001b[0m\u001b[0m\n\u001b[0;32m---> 23\u001b[0;31m         \u001b[0;32mreturn\u001b[0m \u001b[0mself\u001b[0m\u001b[0;34m.\u001b[0m\u001b[0m_hidden\u001b[0m\u001b[0;34m.\u001b[0m\u001b[0mget\u001b[0m\u001b[0;34m(\u001b[0m\u001b[0minstance\u001b[0m\u001b[0;34m,\u001b[0m \u001b[0mself\u001b[0m\u001b[0;34m.\u001b[0m\u001b[0mdefault\u001b[0m\u001b[0;34m)\u001b[0m\u001b[0;34m\u001b[0m\u001b[0m\n\u001b[0m\u001b[1;32m     24\u001b[0m \u001b[0;34m\u001b[0m\u001b[0m\n\u001b[1;32m     25\u001b[0m     \u001b[0;32mdef\u001b[0m \u001b[0m__set__\u001b[0m\u001b[0;34m(\u001b[0m\u001b[0mself\u001b[0m\u001b[0;34m,\u001b[0m \u001b[0minstance\u001b[0m\u001b[0;34m,\u001b[0m \u001b[0mvalue\u001b[0m\u001b[0;34m)\u001b[0m\u001b[0;34m:\u001b[0m\u001b[0;34m\u001b[0m\u001b[0m\n",
      "\u001b[0;32m/usr/local/Cellar/python/2.7.11/Frameworks/Python.framework/Versions/2.7/lib/python2.7/weakref.pyc\u001b[0m in \u001b[0;36mget\u001b[0;34m(self, key, default)\u001b[0m\n\u001b[1;32m    356\u001b[0m \u001b[0;34m\u001b[0m\u001b[0m\n\u001b[1;32m    357\u001b[0m     \u001b[0;32mdef\u001b[0m \u001b[0mget\u001b[0m\u001b[0;34m(\u001b[0m\u001b[0mself\u001b[0m\u001b[0;34m,\u001b[0m \u001b[0mkey\u001b[0m\u001b[0;34m,\u001b[0m \u001b[0mdefault\u001b[0m\u001b[0;34m=\u001b[0m\u001b[0mNone\u001b[0m\u001b[0;34m)\u001b[0m\u001b[0;34m:\u001b[0m\u001b[0;34m\u001b[0m\u001b[0m\n\u001b[0;32m--> 358\u001b[0;31m         \u001b[0;32mreturn\u001b[0m \u001b[0mself\u001b[0m\u001b[0;34m.\u001b[0m\u001b[0mdata\u001b[0m\u001b[0;34m.\u001b[0m\u001b[0mget\u001b[0m\u001b[0;34m(\u001b[0m\u001b[0mref\u001b[0m\u001b[0;34m(\u001b[0m\u001b[0mkey\u001b[0m\u001b[0;34m)\u001b[0m\u001b[0;34m,\u001b[0m\u001b[0mdefault\u001b[0m\u001b[0;34m)\u001b[0m\u001b[0;34m\u001b[0m\u001b[0m\n\u001b[0m\u001b[1;32m    359\u001b[0m \u001b[0;34m\u001b[0m\u001b[0m\n\u001b[1;32m    360\u001b[0m     \u001b[0;32mdef\u001b[0m \u001b[0mhas_key\u001b[0m\u001b[0;34m(\u001b[0m\u001b[0mself\u001b[0m\u001b[0;34m,\u001b[0m \u001b[0mkey\u001b[0m\u001b[0;34m)\u001b[0m\u001b[0;34m:\u001b[0m\u001b[0;34m\u001b[0m\u001b[0m\n",
      "\u001b[0;32m<ipython-input-12-66ed34f1f71d>\u001b[0m in \u001b[0;36m__hash__\u001b[0;34m(self)\u001b[0m\n\u001b[1;32m     10\u001b[0m \u001b[0;34m\u001b[0m\u001b[0m\n\u001b[1;32m     11\u001b[0m     \u001b[0;32mdef\u001b[0m \u001b[0m__hash__\u001b[0m\u001b[0;34m(\u001b[0m\u001b[0mself\u001b[0m\u001b[0;34m)\u001b[0m\u001b[0;34m:\u001b[0m\u001b[0;34m\u001b[0m\u001b[0m\n\u001b[0;32m---> 12\u001b[0;31m         \u001b[0;32mraise\u001b[0m \u001b[0mNotImplementedError\u001b[0m\u001b[0;34m\u001b[0m\u001b[0m\n\u001b[0m\u001b[1;32m     13\u001b[0m     \u001b[0;31m#def __eq__(self, other):\u001b[0m\u001b[0;34m\u001b[0m\u001b[0;34m\u001b[0m\u001b[0m\n\u001b[1;32m     14\u001b[0m     \u001b[0;31m#    raise False\u001b[0m\u001b[0;34m\u001b[0m\u001b[0;34m\u001b[0m\u001b[0m\n",
      "\u001b[0;31mNotImplementedError\u001b[0m: "
     ]
    }
   ],
   "source": [
    "# %load weakkeydict_storage_break.py\n",
    "from weakkeydict_storage import DescriptorWeakKeyDictStorage\n",
    "\n",
    "\n",
    "class StoreInstance(object):\n",
    "    \"\"\"All instances have own `attr`.\n",
    "    \"\"\"\n",
    "    attr1 = DescriptorWeakKeyDictStorage(10)\n",
    "    attr2 = DescriptorWeakKeyDictStorage(-5)\n",
    "\n",
    "    def __hash__(self):\n",
    "        raise NotImplementedError\n",
    "    #def __eq__(self, other):\n",
    "    #    raise False\n",
    "\n",
    "store1 = StoreInstance()\n",
    "store2 = StoreInstance()\n",
    "print('store1', store1.attr1)\n",
    "print('store2', store2.attr1)\n",
    "print('Setting store1 only.')\n",
    "store1.attr1 = 100\n",
    "store1.attr2 = -123\n",
    "store2.attr1 = 98765\n",
    "print('store1 attr1', store1.attr1)\n",
    "print('store1 attr2', store1.attr2)\n",
    "print('store2', store2.attr1)\n",
    "print('_hidden:', list(StoreInstance.__dict__['attr1']._hidden.items()))\n",
    "print('_hidden:', list(StoreInstance.__dict__['attr2']._hidden.items()))\n",
    "del store1\n",
    "print('Deleted store1')\n",
    "print('_hidden:', list(StoreInstance.__dict__['attr1']._hidden.items()))"
   ]
  },
  {
   "cell_type": "code",
   "execution_count": 15,
   "metadata": {
    "collapsed": false
   },
   "outputs": [
    {
     "name": "stdout",
     "output_type": "stream",
     "text": [
      "store1 10\n",
      "store2 10\n",
      "Setting store1 only.\n",
      "store1 100\n",
      "store2 10\n",
      "{'__84e957d776454cdca82422c0112fcf3a': 100}\n"
     ]
    }
   ],
   "source": [
    "# %load instance_storage.py\n",
    "\n",
    "\"\"\"A descriptor works only in a class.\n",
    "\n",
    "Storing attribute data in `instance.__dict__` can be a solution.\n",
    "Creating a unique attribute name with the help of `uuid` and\n",
    "using name mangling with the `__` prefix make things more robust.\n",
    "\"\"\"\n",
    "\n",
    "from __future__ import print_function\n",
    "\n",
    "import uuid\n",
    "\n",
    "\n",
    "class DescriptorInstanceStorage(object):\n",
    "    \"\"\"Descriptor that stores attribute data in instances.\n",
    "    \"\"\"\n",
    "\n",
    "    def __init__(self, default=None):\n",
    "        # unique name with uuid\n",
    "        self._hidden_name = '__' + uuid.uuid4().hex\n",
    "        self.default = default\n",
    "\n",
    "    def __get__(self, instance, owner):\n",
    "        return getattr(instance, self._hidden_name, self.default)\n",
    "\n",
    "    def __set__(self, instance, value):\n",
    "        setattr(instance, self._hidden_name, value)\n",
    "\n",
    "\n",
    "if __name__ == '__main__':\n",
    "    class StoreInstance(object):\n",
    "        \"\"\"All instances have own `attr`.\n",
    "        \"\"\"\n",
    "        attr = DescriptorInstanceStorage(10)\n",
    "\n",
    "    store1 = StoreInstance()\n",
    "    store2 = StoreInstance()\n",
    "    print('store1', store1.attr)\n",
    "    print('store2', store2.attr)\n",
    "    print('Setting store1 only.')\n",
    "    store1.attr = 100\n",
    "    print('store1', store1.attr)\n",
    "    print('store2', store2.attr)\n",
    "    print(store1.__dict__)\n"
   ]
  },
  {
   "cell_type": "code",
   "execution_count": 16,
   "metadata": {
    "collapsed": false
   },
   "outputs": [
    {
     "name": "stdout",
     "output_type": "stream",
     "text": [
      "checked.py                    \u001b[31moldstyle.py\u001b[m\u001b[m*\r\n",
      "class_storage.py              weakkeydict_storage.py\r\n",
      "\u001b[31mdatadescriptor.py\u001b[m\u001b[m*            weakkeydict_storage.pyc\r\n",
      "instance_storage.py           weakkeydict_storage_break.py\r\n"
     ]
    }
   ],
   "source": [
    "ls"
   ]
  },
  {
   "cell_type": "code",
   "execution_count": 18,
   "metadata": {
    "collapsed": false
   },
   "outputs": [
    {
     "name": "stdout",
     "output_type": "stream",
     "text": [
      "Cannot set default to float, must be int.\n",
      "attr1 10\n",
      "attr1 100\n",
      "Cannot set attr1 to float, must be int.\n",
      "200 12.5 12\n"
     ]
    }
   ],
   "source": [
    "# %load checked.py\n",
    "\n",
    "\n",
    "\"\"\"Example for descriptor that checks conditions on attributes.\n",
    "\"\"\"\n",
    "from __future__ import print_function\n",
    "\n",
    "from weakref import WeakKeyDictionary\n",
    "\n",
    "\n",
    "class Checked(object):\n",
    "    \"\"\"Descriptor that checks with a user-supplied check function\n",
    "    if an attribute is valid.\n",
    "    \"\"\"\n",
    "\n",
    "    def __init__(self, checker=None, default=None):\n",
    "        self._values = WeakKeyDictionary()\n",
    "        if checker:\n",
    "            # checker must be a callable\n",
    "            checker(default)\n",
    "        self.checker = checker\n",
    "        self.default = default\n",
    "\n",
    "    def __get__(self, instance, owner):\n",
    "        return self._values.get(instance, self.default)\n",
    "\n",
    "    def __set__(self, instance, value):\n",
    "        if self.checker:\n",
    "            self.checker(value)\n",
    "        self._values[instance] = value\n",
    "\n",
    "\n",
    "if __name__ == '__main__':\n",
    "\n",
    "    def is_int(value):\n",
    "        \"\"\"Check if value is an integer.\n",
    "        \"\"\"\n",
    "        if not isinstance(value, int):\n",
    "            raise ValueError('Int required {} found'.format(type(value)))\n",
    "\n",
    "    class Restricted(object):\n",
    "        \"\"\"Use checked attributes.\n",
    "        \"\"\"\n",
    "        attr1 = Checked(checker=is_int, default=10)\n",
    "        attr2 = Checked(default=12.5)\n",
    "        # Setting the default to float, `is_int` raises a `ValueError`.\n",
    "        try:\n",
    "            attr3 = Checked(checker=is_int, default=12.5)\n",
    "        except ValueError:\n",
    "            print('Cannot set default to float, must be int.')\n",
    "            attr3 = Checked(checker=is_int, default=12)\n",
    "\n",
    "    restricted = Restricted()\n",
    "    print('attr1', restricted.attr1)\n",
    "    restricted.attr1 = 100\n",
    "    print('attr1', restricted.attr1)\n",
    "    try:\n",
    "        restricted.attr1 = 200.12\n",
    "    except ValueError:\n",
    "        print('Cannot set attr1 to float, must be int.')\n",
    "        restricted.attr1 = 200\n",
    "    print(restricted.attr1, restricted.attr2, restricted.attr3)\n"
   ]
  },
  {
   "cell_type": "code",
   "execution_count": 48,
   "metadata": {
    "collapsed": false
   },
   "outputs": [
    {
     "name": "stdout",
     "output_type": "stream",
     "text": [
      "RestrictedPositiveOnly attribute1:  10\n",
      "RestrictedPositiveOnly attribute2:  5\n",
      "RestrictedPositiveOnly attribute3:  1\n"
     ]
    }
   ],
   "source": [
    "from __future__ import print_function\n",
    "\n",
    "from weakref import WeakKeyDictionary\n",
    "\n",
    "def check_positive(number):\n",
    "    if not isinstance(number, int):\n",
    "        raise ValueError(\"Int required {} found\".format(type(number)))\n",
    "    elif number <= 0:\n",
    "        raise ValueError(\"Positive Number required, {} found\".format(number))\n",
    "    else:\n",
    "        return round(number, 2)\n",
    "\n",
    "class PositiveOnly(object):\n",
    "    \"\"\"\n",
    "    Descriptor that checks that the user entered value is positive\n",
    "    \"\"\"\n",
    "    \n",
    "    def __init__(self, checker=check_positive, default=1):\n",
    "        self._values = WeakKeyDictionary()\n",
    "        if checker:\n",
    "            checker(default)\n",
    "        self.checker = checker\n",
    "        self.default = default\n",
    "\n",
    "    def __get__(self, instance, owner):\n",
    "        return self._values.get(instance, self.default)\n",
    "\n",
    "    def __set__(self, instance, value):\n",
    "        if self.checker:\n",
    "            self.checker(value)\n",
    "        self._values[instance] = value\n",
    "\n",
    "if __name__ == \"__main__\":\n",
    "    \n",
    "    class RestrictedPositiveOnly(object):\n",
    "        attribute1 = PositiveOnly(default=10)\n",
    "        try:\n",
    "            attribute2 = PositiveOnly(default=-5)\n",
    "        except ValueError:\n",
    "            attribute2 = PositiveOnly(default=5)\n",
    "        attribute3 = PositiveOnly(default=1)\n",
    "\n",
    "    restricted_ex = RestrictedPositiveOnly()\n",
    "    print('RestrictedPositiveOnly attribute1: ', restricted_ex.attribute1)\n",
    "    print('RestrictedPositiveOnly attribute2: ', restricted_ex.attribute2)\n",
    "    print('RestrictedPositiveOnly attribute3: ', restricted_ex.attribute3)"
   ]
  },
  {
   "cell_type": "code",
   "execution_count": 35,
   "metadata": {
    "collapsed": false
   },
   "outputs": [
    {
     "name": "stdout",
     "output_type": "stream",
     "text": [
      "checked.py                    \u001b[31moldstyle.py\u001b[m\u001b[m*\r\n",
      "class_storage.py              weakkeydict_storage.py\r\n",
      "\u001b[31mdatadescriptor.py\u001b[m\u001b[m*            weakkeydict_storage.pyc\r\n",
      "instance_storage.py           weakkeydict_storage_break.py\r\n"
     ]
    }
   ],
   "source": [
    "ls"
   ]
  },
  {
   "cell_type": "code",
   "execution_count": 36,
   "metadata": {
    "collapsed": false
   },
   "outputs": [
    {
     "name": "stdout",
     "output_type": "stream",
     "text": [
      "/Users/deep/Desktop/deco_meta\n"
     ]
    }
   ],
   "source": [
    "cd .."
   ]
  },
  {
   "cell_type": "code",
   "execution_count": 37,
   "metadata": {
    "collapsed": false
   },
   "outputs": [
    {
     "name": "stdout",
     "output_type": "stream",
     "text": [
      "Descriptors.ipynb                    descriptors_metaclasses_handout.pdf\r\n",
      "\u001b[34mdeco_meta\u001b[m\u001b[m/                           \u001b[34mmetaclasses\u001b[m\u001b[m/\r\n",
      "deco_meta notes                      \u001b[34mproperties\u001b[m\u001b[m/\r\n",
      "\u001b[34mdescriptors\u001b[m\u001b[m/                         survey_link.txt\r\n"
     ]
    }
   ],
   "source": [
    "ls"
   ]
  },
  {
   "cell_type": "code",
   "execution_count": 38,
   "metadata": {
    "collapsed": false
   },
   "outputs": [
    {
     "name": "stdout",
     "output_type": "stream",
     "text": [
      "/Users/deep/Desktop/deco_meta/descriptors\n"
     ]
    }
   ],
   "source": [
    "cd descriptors"
   ]
  },
  {
   "cell_type": "code",
   "execution_count": 39,
   "metadata": {
    "collapsed": false
   },
   "outputs": [
    {
     "name": "stdout",
     "output_type": "stream",
     "text": [
      "checked.py                    \u001b[31moldstyle.py\u001b[m\u001b[m*\r\n",
      "class_storage.py              weakkeydict_storage.py\r\n",
      "\u001b[31mdatadescriptor.py\u001b[m\u001b[m*            weakkeydict_storage.pyc\r\n",
      "instance_storage.py           weakkeydict_storage_break.py\r\n"
     ]
    }
   ],
   "source": [
    "ls"
   ]
  },
  {
   "cell_type": "code",
   "execution_count": 40,
   "metadata": {
    "collapsed": false
   },
   "outputs": [
    {
     "name": "stdout",
     "output_type": "stream",
     "text": [
      "/Users/deep/Desktop/deco_meta\n"
     ]
    }
   ],
   "source": [
    "cd .."
   ]
  },
  {
   "cell_type": "code",
   "execution_count": 41,
   "metadata": {
    "collapsed": false
   },
   "outputs": [
    {
     "name": "stdout",
     "output_type": "stream",
     "text": [
      "/Users/deep/Desktop/deco_meta/deco_meta\n"
     ]
    }
   ],
   "source": [
    "cd deco_meta/"
   ]
  },
  {
   "cell_type": "code",
   "execution_count": 42,
   "metadata": {
    "collapsed": false
   },
   "outputs": [
    {
     "name": "stdout",
     "output_type": "stream",
     "text": [
      "\u001b[34mbin\u001b[m\u001b[m/                \u001b[34minclude\u001b[m\u001b[m/            \u001b[34mlib\u001b[m\u001b[m/                pip-selfcheck.json\r\n"
     ]
    }
   ],
   "source": [
    "ls"
   ]
  },
  {
   "cell_type": "code",
   "execution_count": 43,
   "metadata": {
    "collapsed": false
   },
   "outputs": [
    {
     "name": "stdout",
     "output_type": "stream",
     "text": [
      "/Users/deep/Desktop/deco_meta\n"
     ]
    }
   ],
   "source": [
    "cd .."
   ]
  },
  {
   "cell_type": "code",
   "execution_count": 44,
   "metadata": {
    "collapsed": false
   },
   "outputs": [
    {
     "name": "stdout",
     "output_type": "stream",
     "text": [
      "Descriptors.ipynb                    descriptors_metaclasses_handout.pdf\r\n",
      "\u001b[34mdeco_meta\u001b[m\u001b[m/                           \u001b[34mmetaclasses\u001b[m\u001b[m/\r\n",
      "deco_meta notes                      \u001b[34mproperties\u001b[m\u001b[m/\r\n",
      "\u001b[34mdescriptors\u001b[m\u001b[m/                         survey_link.txt\r\n"
     ]
    }
   ],
   "source": [
    "ls"
   ]
  },
  {
   "cell_type": "code",
   "execution_count": 68,
   "metadata": {
    "collapsed": false
   },
   "outputs": [
    {
     "name": "stdout",
     "output_type": "stream",
     "text": [
      "0.0\n",
      "10.11\n",
      "Don't like to be deleted\n",
      "10.11\n"
     ]
    }
   ],
   "source": [
    "from __future__ import print_function\n",
    "\n",
    "class PositiveOnly(object):\n",
    "    \"\"\"\n",
    "    Allow only positive values.\n",
    "    As per exercise solution from Mike Muller\n",
    "    \"\"\"\n",
    "    \n",
    "    def __init__(self):\n",
    "        self.value = 0\n",
    "        \n",
    "    def __get__(self, instance, cls):\n",
    "        return round(self.value, 2)\n",
    "    \n",
    "    def __set__(self, instance, value):\n",
    "        if value != abs(value):\n",
    "            raise ValueError(\"Only positive values are allowed. Got {}\"\n",
    "                            .format(value))\n",
    "        self.value = value\n",
    "    \n",
    "    def __delete__(self, instance):\n",
    "        print(\"Don't like to be deleted\")\n",
    "\n",
    "class Number(object):\n",
    "    \"\"\"\n",
    "    Sample class that uses our descriptor\n",
    "    \"\"\"\n",
    "    \n",
    "    value = PositiveOnly()\n",
    "\n",
    "if __name__ == '__main__':\n",
    "    \n",
    "    def test():\n",
    "        \"\"\"\n",
    "        Demonstrate how it works.\n",
    "        \"\"\"\n",
    "        number = Number()\n",
    "        print(number.value)\n",
    "        \n",
    "        number.value = 10.111\n",
    "        print(number.value)\n",
    "        \n",
    "        del number.value\n",
    "        print(number.value)\n",
    "    \n",
    "    test()"
   ]
  },
  {
   "cell_type": "code",
   "execution_count": 71,
   "metadata": {
    "collapsed": false
   },
   "outputs": [
    {
     "name": "stdout",
     "output_type": "stream",
     "text": [
      "Germany: 119.0\n",
      "Denmark: 125.0\n",
      "Luxembourg: 117.0\n"
     ]
    },
    {
     "ename": "NotImplementedError",
     "evalue": "Cannot change VAT value",
     "output_type": "error",
     "traceback": [
      "\u001b[0;31m---------------------------------------------------------------------------\u001b[0m",
      "\u001b[0;31mNotImplementedError\u001b[0m                       Traceback (most recent call last)",
      "\u001b[0;32m<ipython-input-71-62555c026f76>\u001b[0m in \u001b[0;36m<module>\u001b[0;34m()\u001b[0m\n\u001b[1;32m     52\u001b[0m         \u001b[0mprice_denmark\u001b[0m\u001b[0;34m.\u001b[0m\u001b[0mtotal\u001b[0m \u001b[0;34m=\u001b[0m \u001b[0;36m15\u001b[0m\u001b[0;34m\u001b[0m\u001b[0m\n\u001b[1;32m     53\u001b[0m \u001b[0;34m\u001b[0m\u001b[0m\n\u001b[0;32m---> 54\u001b[0;31m     \u001b[0mtest\u001b[0m\u001b[0;34m(\u001b[0m\u001b[0;34m)\u001b[0m\u001b[0;34m\u001b[0m\u001b[0m\n\u001b[0m",
      "\u001b[0;32m<ipython-input-71-62555c026f76>\u001b[0m in \u001b[0;36mtest\u001b[0;34m()\u001b[0m\n\u001b[1;32m     50\u001b[0m \u001b[0;34m\u001b[0m\u001b[0m\n\u001b[1;32m     51\u001b[0m         \u001b[0;31m# Try to set VAT rate for Denmark:\u001b[0m\u001b[0;34m\u001b[0m\u001b[0;34m\u001b[0m\u001b[0m\n\u001b[0;32m---> 52\u001b[0;31m         \u001b[0mprice_denmark\u001b[0m\u001b[0;34m.\u001b[0m\u001b[0mtotal\u001b[0m \u001b[0;34m=\u001b[0m \u001b[0;36m15\u001b[0m\u001b[0;34m\u001b[0m\u001b[0m\n\u001b[0m\u001b[1;32m     53\u001b[0m \u001b[0;34m\u001b[0m\u001b[0m\n\u001b[1;32m     54\u001b[0m     \u001b[0mtest\u001b[0m\u001b[0;34m(\u001b[0m\u001b[0;34m)\u001b[0m\u001b[0;34m\u001b[0m\u001b[0m\n",
      "\u001b[0;32m<ipython-input-71-62555c026f76>\u001b[0m in \u001b[0;36m__set__\u001b[0;34m(self, instance, value)\u001b[0m\n\u001b[1;32m      8\u001b[0m \u001b[0;34m\u001b[0m\u001b[0m\n\u001b[1;32m      9\u001b[0m     \u001b[0;32mdef\u001b[0m \u001b[0m__set__\u001b[0m\u001b[0;34m(\u001b[0m\u001b[0mself\u001b[0m\u001b[0;34m,\u001b[0m \u001b[0minstance\u001b[0m\u001b[0;34m,\u001b[0m \u001b[0mvalue\u001b[0m\u001b[0;34m)\u001b[0m\u001b[0;34m:\u001b[0m\u001b[0;34m\u001b[0m\u001b[0m\n\u001b[0;32m---> 10\u001b[0;31m         \u001b[0;32mraise\u001b[0m \u001b[0mNotImplementedError\u001b[0m\u001b[0;34m(\u001b[0m\u001b[0;34m\"Cannot change VAT value\"\u001b[0m\u001b[0;34m)\u001b[0m\u001b[0;34m\u001b[0m\u001b[0m\n\u001b[0m\u001b[1;32m     11\u001b[0m \u001b[0;34m\u001b[0m\u001b[0m\n\u001b[1;32m     12\u001b[0m \u001b[0;32mclass\u001b[0m \u001b[0mPrice\u001b[0m\u001b[0;34m(\u001b[0m\u001b[0mobject\u001b[0m\u001b[0;34m)\u001b[0m\u001b[0;34m:\u001b[0m\u001b[0;34m\u001b[0m\u001b[0m\n",
      "\u001b[0;31mNotImplementedError\u001b[0m: Cannot change VAT value"
     ]
    }
   ],
   "source": [
    "class Total(object):\n",
    "    def __init__(self, rate=1.19):\n",
    "        # Default rate is for Germany (i.e. of 19%)\n",
    "        self.rate = rate\n",
    "    \n",
    "    def __get__(self, instance, cls):\n",
    "        return round(instance.net * self.rate, 2)\n",
    "    \n",
    "    def __set__(self, instance, value):\n",
    "        raise NotImplementedError(\"Cannot change VAT value\")\n",
    "    \n",
    "class Price(object):\n",
    "    def __init__(self, net):\n",
    "        self.net= net\n",
    "\n",
    "class PriceGermany(Price):\n",
    "    \"\"\"\n",
    "    A Price with VAT for Germany\n",
    "    \"\"\"\n",
    "    \n",
    "    total = Total() # Not adding 1.19 as parameter to Total, since that's the default value anyways\n",
    "\n",
    "class PriceLuxembourg(Price):\n",
    "    \"\"\"\n",
    "    A Price with VAT for Luxembourg\n",
    "    \"\"\"\n",
    "    \n",
    "    total = Total(1.17) # Since the rate is 17% in Luxembourg\n",
    "\n",
    "class PriceDenmark(Price):\n",
    "    \"\"\"\n",
    "    A Price with VAT for Denmark\n",
    "    \"\"\"\n",
    "    total = Total(1.25) # Since rate in Denmark is 25%\n",
    "\n",
    "if __name__ == '__main__':\n",
    "    \n",
    "    def test():\n",
    "        \"\"\"\n",
    "        Demonstrate how it works with values for 100 in each currency\n",
    "        \"\"\"\n",
    "        price_germany = PriceGermany(100)\n",
    "        print('Germany:', price_germany.total)\n",
    "        \n",
    "        price_denmark = PriceDenmark(100)\n",
    "        print('Denmark:', price_denmark.total)\n",
    "        \n",
    "        price_luxembourg = PriceLuxembourg(100)\n",
    "        print('Luxembourg:', price_luxembourg.total)\n",
    "        \n",
    "        # Try to set VAT rate for Denmark:\n",
    "        price_denmark.total = 15\n",
    "    \n",
    "    test()"
   ]
  },
  {
   "cell_type": "code",
   "execution_count": 72,
   "metadata": {
    "collapsed": false
   },
   "outputs": [
    {
     "data": {
      "text/plain": [
       "<function print>"
      ]
     },
     "execution_count": 72,
     "metadata": {},
     "output_type": "execute_result"
    }
   ],
   "source": [
    "print"
   ]
  },
  {
   "cell_type": "code",
   "execution_count": 73,
   "metadata": {
    "collapsed": false
   },
   "outputs": [
    {
     "name": "stdout",
     "output_type": "stream",
     "text": [
      "\n"
     ]
    }
   ],
   "source": [
    "print()"
   ]
  },
  {
   "cell_type": "code",
   "execution_count": 74,
   "metadata": {
    "collapsed": true
   },
   "outputs": [],
   "source": [
    "class ObjectCreator(object):\n",
    "    pass"
   ]
  },
  {
   "cell_type": "code",
   "execution_count": 75,
   "metadata": {
    "collapsed": false
   },
   "outputs": [
    {
     "name": "stdout",
     "output_type": "stream",
     "text": [
      "<class '__main__.ObjectCreator'>\n"
     ]
    }
   ],
   "source": [
    "print(ObjectCreator)"
   ]
  },
  {
   "cell_type": "code",
   "execution_count": 76,
   "metadata": {
    "collapsed": true
   },
   "outputs": [],
   "source": [
    "def echo(o):\n",
    "    print(o)"
   ]
  },
  {
   "cell_type": "code",
   "execution_count": 78,
   "metadata": {
    "collapsed": false
   },
   "outputs": [
    {
     "name": "stdout",
     "output_type": "stream",
     "text": [
      "<class '__main__.ObjectCreator'>\n",
      "<class '__main__.ObjectCreator'>\n"
     ]
    },
    {
     "data": {
      "text/plain": [
       "True"
      ]
     },
     "execution_count": 78,
     "metadata": {},
     "output_type": "execute_result"
    }
   ],
   "source": [
    "echo(ObjectCreator) == print(ObjectCreator)"
   ]
  },
  {
   "cell_type": "code",
   "execution_count": 80,
   "metadata": {
    "collapsed": false
   },
   "outputs": [
    {
     "name": "stdout",
     "output_type": "stream",
     "text": [
      "False\n"
     ]
    }
   ],
   "source": [
    "print(hasattr(ObjectCreator, 'new_attribute'))"
   ]
  },
  {
   "cell_type": "code",
   "execution_count": 81,
   "metadata": {
    "collapsed": true
   },
   "outputs": [],
   "source": [
    "ObjectCreator.new_attribute = 'foo'"
   ]
  },
  {
   "cell_type": "code",
   "execution_count": 82,
   "metadata": {
    "collapsed": false
   },
   "outputs": [
    {
     "name": "stdout",
     "output_type": "stream",
     "text": [
      "True\n"
     ]
    }
   ],
   "source": [
    "print(hasattr(ObjectCreator, 'new_attribute'))"
   ]
  },
  {
   "cell_type": "code",
   "execution_count": 83,
   "metadata": {
    "collapsed": false
   },
   "outputs": [
    {
     "name": "stdout",
     "output_type": "stream",
     "text": [
      "foo\n"
     ]
    }
   ],
   "source": [
    "print(ObjectCreator.new_attribute)"
   ]
  },
  {
   "cell_type": "code",
   "execution_count": 84,
   "metadata": {
    "collapsed": true
   },
   "outputs": [],
   "source": [
    "ObjectCreatorMirror = ObjectCreator"
   ]
  },
  {
   "cell_type": "code",
   "execution_count": 85,
   "metadata": {
    "collapsed": false
   },
   "outputs": [
    {
     "name": "stdout",
     "output_type": "stream",
     "text": [
      "foo\n"
     ]
    }
   ],
   "source": [
    "print(ObjectCreatorMirror.new_attribute)"
   ]
  },
  {
   "cell_type": "code",
   "execution_count": 86,
   "metadata": {
    "collapsed": true
   },
   "outputs": [],
   "source": [
    "ObjectCreator.new_attribute = 'bar'"
   ]
  },
  {
   "cell_type": "code",
   "execution_count": 87,
   "metadata": {
    "collapsed": false
   },
   "outputs": [
    {
     "name": "stdout",
     "output_type": "stream",
     "text": [
      "bar\n"
     ]
    }
   ],
   "source": [
    "print(ObjectCreatorMirror.new_attribute)"
   ]
  },
  {
   "cell_type": "code",
   "execution_count": 89,
   "metadata": {
    "collapsed": false
   },
   "outputs": [
    {
     "name": "stdout",
     "output_type": "stream",
     "text": [
      "<__main__.ObjectCreator object at 0x1105697d0>\n"
     ]
    }
   ],
   "source": [
    "print(ObjectCreatorMirror())"
   ]
  },
  {
   "cell_type": "markdown",
   "metadata": {},
   "source": [
    "# Creating Classes Dynamically"
   ]
  },
  {
   "cell_type": "code",
   "execution_count": 93,
   "metadata": {
    "collapsed": true
   },
   "outputs": [],
   "source": [
    "# From: http://stackoverflow.com/a/6581949"
   ]
  },
  {
   "cell_type": "code",
   "execution_count": 94,
   "metadata": {
    "collapsed": true
   },
   "outputs": [],
   "source": [
    "def choose_class(name):\n",
    "    if name == 'foo':\n",
    "        class Foo(object):\n",
    "            pass\n",
    "        return Foo\n",
    "    else:\n",
    "        class Bar(object):\n",
    "            pass\n",
    "        return Bar"
   ]
  },
  {
   "cell_type": "code",
   "execution_count": 95,
   "metadata": {
    "collapsed": true
   },
   "outputs": [],
   "source": [
    "MyClass = choose_class('Something')"
   ]
  },
  {
   "cell_type": "code",
   "execution_count": 98,
   "metadata": {
    "collapsed": false
   },
   "outputs": [
    {
     "name": "stdout",
     "output_type": "stream",
     "text": [
      "<class '__main__.Bar'>\n"
     ]
    }
   ],
   "source": [
    "print(MyClass)"
   ]
  },
  {
   "cell_type": "code",
   "execution_count": 99,
   "metadata": {
    "collapsed": false
   },
   "outputs": [
    {
     "name": "stdout",
     "output_type": "stream",
     "text": [
      "<__main__.Bar object at 0x1104782d0>\n"
     ]
    }
   ],
   "source": [
    "print(MyClass())"
   ]
  },
  {
   "cell_type": "code",
   "execution_count": 100,
   "metadata": {
    "collapsed": false
   },
   "outputs": [
    {
     "name": "stdout",
     "output_type": "stream",
     "text": [
      "<type 'int'>\n"
     ]
    }
   ],
   "source": [
    "print(type(1))"
   ]
  },
  {
   "cell_type": "code",
   "execution_count": 101,
   "metadata": {
    "collapsed": false
   },
   "outputs": [
    {
     "name": "stdout",
     "output_type": "stream",
     "text": [
      "<type 'str'>\n"
     ]
    }
   ],
   "source": [
    "print(type(\"1\"))"
   ]
  },
  {
   "cell_type": "code",
   "execution_count": 102,
   "metadata": {
    "collapsed": false
   },
   "outputs": [
    {
     "name": "stdout",
     "output_type": "stream",
     "text": [
      "<type 'type'>\n"
     ]
    }
   ],
   "source": [
    "print(type(ObjectCreator))"
   ]
  },
  {
   "cell_type": "code",
   "execution_count": 103,
   "metadata": {
    "collapsed": false
   },
   "outputs": [
    {
     "name": "stdout",
     "output_type": "stream",
     "text": [
      "<class '__main__.ObjectCreator'>\n"
     ]
    }
   ],
   "source": [
    "print(type(ObjectCreator()))"
   ]
  },
  {
   "cell_type": "code",
   "execution_count": 104,
   "metadata": {
    "collapsed": true
   },
   "outputs": [],
   "source": [
    "# type works this way:"
   ]
  },
  {
   "cell_type": "code",
   "execution_count": 105,
   "metadata": {
    "collapsed": true
   },
   "outputs": [],
   "source": [
    "class MyShinyClass(object):\n",
    "    pass"
   ]
  },
  {
   "cell_type": "code",
   "execution_count": 106,
   "metadata": {
    "collapsed": true
   },
   "outputs": [],
   "source": [
    "MyShinyClass2 = type('MyShinyClass2', (), {})"
   ]
  },
  {
   "cell_type": "code",
   "execution_count": 109,
   "metadata": {
    "collapsed": false
   },
   "outputs": [
    {
     "name": "stdout",
     "output_type": "stream",
     "text": [
      "<__main__.MyShinyClass2 object at 0x110478f10>\n"
     ]
    }
   ],
   "source": [
    "print(MyShinyClass2())"
   ]
  },
  {
   "cell_type": "code",
   "execution_count": 110,
   "metadata": {
    "collapsed": true
   },
   "outputs": [],
   "source": [
    "# type accepts a dictionary to define the attributes of the class"
   ]
  },
  {
   "cell_type": "code",
   "execution_count": 111,
   "metadata": {
    "collapsed": true
   },
   "outputs": [],
   "source": [
    "class Foo(object):\n",
    "    bar = True"
   ]
  },
  {
   "cell_type": "code",
   "execution_count": 112,
   "metadata": {
    "collapsed": true
   },
   "outputs": [],
   "source": [
    "# Can also be created as"
   ]
  },
  {
   "cell_type": "code",
   "execution_count": 113,
   "metadata": {
    "collapsed": true
   },
   "outputs": [],
   "source": [
    "Foo = type('Foo', (), {'bar': True})"
   ]
  },
  {
   "cell_type": "code",
   "execution_count": 116,
   "metadata": {
    "collapsed": false
   },
   "outputs": [
    {
     "name": "stdout",
     "output_type": "stream",
     "text": [
      "<__main__.Foo object at 0x110478390>\n"
     ]
    }
   ],
   "source": [
    "print(Foo())"
   ]
  },
  {
   "cell_type": "code",
   "execution_count": 117,
   "metadata": {
    "collapsed": true
   },
   "outputs": [],
   "source": [
    "f = Foo()"
   ]
  },
  {
   "cell_type": "code",
   "execution_count": 120,
   "metadata": {
    "collapsed": false
   },
   "outputs": [
    {
     "name": "stdout",
     "output_type": "stream",
     "text": [
      "<__main__.Foo object at 0x110478fd0>\n",
      "True\n"
     ]
    },
    {
     "data": {
      "text/plain": [
       "(None, None)"
      ]
     },
     "execution_count": 120,
     "metadata": {},
     "output_type": "execute_result"
    }
   ],
   "source": [
    "print(f), print(f.bar)"
   ]
  },
  {
   "cell_type": "code",
   "execution_count": 121,
   "metadata": {
    "collapsed": true
   },
   "outputs": [],
   "source": [
    "# When you want to create a 'FooChild' class that inherits from 'Foo' class"
   ]
  },
  {
   "cell_type": "code",
   "execution_count": 122,
   "metadata": {
    "collapsed": true
   },
   "outputs": [],
   "source": [
    "FooChild = type('FooChild', (Foo,), {})"
   ]
  },
  {
   "cell_type": "code",
   "execution_count": 123,
   "metadata": {
    "collapsed": false
   },
   "outputs": [
    {
     "name": "stdout",
     "output_type": "stream",
     "text": [
      "<class '__main__.FooChild'>\n"
     ]
    }
   ],
   "source": [
    "print(FooChild)"
   ]
  },
  {
   "cell_type": "code",
   "execution_count": 124,
   "metadata": {
    "collapsed": false
   },
   "outputs": [
    {
     "name": "stdout",
     "output_type": "stream",
     "text": [
      "True\n"
     ]
    }
   ],
   "source": [
    "print(FooChild.bar)"
   ]
  },
  {
   "cell_type": "code",
   "execution_count": 125,
   "metadata": {
    "collapsed": false
   },
   "outputs": [
    {
     "name": "stdout",
     "output_type": "stream",
     "text": [
      "<__main__.FooChild object at 0x110569710>\n"
     ]
    }
   ],
   "source": [
    "print(FooChild())"
   ]
  },
  {
   "cell_type": "code",
   "execution_count": 126,
   "metadata": {
    "collapsed": true
   },
   "outputs": [],
   "source": [
    "# Eventually when you want to add methods to your class, just define a function\n",
    "# with the proper signature and assign it as an attribute"
   ]
  },
  {
   "cell_type": "code",
   "execution_count": 127,
   "metadata": {
    "collapsed": true
   },
   "outputs": [],
   "source": [
    "def echo_bar(self):\n",
    "    print(self.bar)"
   ]
  },
  {
   "cell_type": "code",
   "execution_count": 128,
   "metadata": {
    "collapsed": true
   },
   "outputs": [],
   "source": [
    "FooChild = type('FooChild', (Foo,), {'echo_bar': echo_bar})"
   ]
  },
  {
   "cell_type": "code",
   "execution_count": 130,
   "metadata": {
    "collapsed": false
   },
   "outputs": [
    {
     "data": {
      "text/plain": [
       "False"
      ]
     },
     "execution_count": 130,
     "metadata": {},
     "output_type": "execute_result"
    }
   ],
   "source": [
    "hasattr(Foo, 'echo_bar')"
   ]
  },
  {
   "cell_type": "code",
   "execution_count": 131,
   "metadata": {
    "collapsed": false
   },
   "outputs": [
    {
     "data": {
      "text/plain": [
       "True"
      ]
     },
     "execution_count": 131,
     "metadata": {},
     "output_type": "execute_result"
    }
   ],
   "source": [
    "hasattr(FooChild, 'echo_bar')"
   ]
  },
  {
   "cell_type": "code",
   "execution_count": 132,
   "metadata": {
    "collapsed": true
   },
   "outputs": [],
   "source": [
    "my_foo = FooChild()"
   ]
  },
  {
   "cell_type": "code",
   "execution_count": 133,
   "metadata": {
    "collapsed": false
   },
   "outputs": [
    {
     "name": "stdout",
     "output_type": "stream",
     "text": [
      "True\n"
     ]
    }
   ],
   "source": [
    "my_foo.echo_bar()"
   ]
  },
  {
   "cell_type": "code",
   "execution_count": 134,
   "metadata": {
    "collapsed": true
   },
   "outputs": [],
   "source": [
    "parent_foo = Foo()"
   ]
  },
  {
   "cell_type": "code",
   "execution_count": 135,
   "metadata": {
    "collapsed": false
   },
   "outputs": [
    {
     "ename": "AttributeError",
     "evalue": "'Foo' object has no attribute 'echo_bar'",
     "output_type": "error",
     "traceback": [
      "\u001b[0;31m---------------------------------------------------------------------------\u001b[0m",
      "\u001b[0;31mAttributeError\u001b[0m                            Traceback (most recent call last)",
      "\u001b[0;32m<ipython-input-135-1d4ace89224c>\u001b[0m in \u001b[0;36m<module>\u001b[0;34m()\u001b[0m\n\u001b[0;32m----> 1\u001b[0;31m \u001b[0mparent_foo\u001b[0m\u001b[0;34m.\u001b[0m\u001b[0mecho_bar\u001b[0m\u001b[0;34m(\u001b[0m\u001b[0;34m)\u001b[0m\u001b[0;34m\u001b[0m\u001b[0m\n\u001b[0m",
      "\u001b[0;31mAttributeError\u001b[0m: 'Foo' object has no attribute 'echo_bar'"
     ]
    }
   ],
   "source": [
    "parent_foo.echo_bar()"
   ]
  },
  {
   "cell_type": "code",
   "execution_count": 137,
   "metadata": {
    "collapsed": true
   },
   "outputs": [],
   "source": [
    "# And you can add even more methods after you dynamically create the class\n",
    "# Just like adding methods to a normally created class object"
   ]
  },
  {
   "cell_type": "code",
   "execution_count": 138,
   "metadata": {
    "collapsed": true
   },
   "outputs": [],
   "source": [
    "def echo_bar_more(self):\n",
    "    print('yet another method')"
   ]
  },
  {
   "cell_type": "code",
   "execution_count": 139,
   "metadata": {
    "collapsed": true
   },
   "outputs": [],
   "source": [
    "FooChild.echo_bar_more = echo_bar_more"
   ]
  },
  {
   "cell_type": "code",
   "execution_count": 141,
   "metadata": {
    "collapsed": false
   },
   "outputs": [
    {
     "data": {
      "text/plain": [
       "True"
      ]
     },
     "execution_count": 141,
     "metadata": {},
     "output_type": "execute_result"
    }
   ],
   "source": [
    "hasattr(FooChild, 'echo_bar_more')"
   ]
  },
  {
   "cell_type": "code",
   "execution_count": 142,
   "metadata": {
    "collapsed": false
   },
   "outputs": [
    {
     "name": "stdout",
     "output_type": "stream",
     "text": [
      "yet another method\n"
     ]
    }
   ],
   "source": [
    "my_foo.echo_bar_more()"
   ]
  },
  {
   "cell_type": "code",
   "execution_count": 144,
   "metadata": {
    "collapsed": false
   },
   "outputs": [],
   "source": [
    "MyClass = type('MyClass', (), {})"
   ]
  },
  {
   "cell_type": "code",
   "execution_count": 148,
   "metadata": {
    "collapsed": false
   },
   "outputs": [
    {
     "name": "stdout",
     "output_type": "stream",
     "text": [
      "<type 'int'>\n",
      "<type 'str'>\n",
      "<type 'function'>\n",
      "<type 'NoneType'>\n",
      "<class '__main__.Bar'>\n",
      "<type 'type'>\n"
     ]
    }
   ],
   "source": [
    "age = 35\n",
    "print(age.__class__)\n",
    "\n",
    "name = 'bob'\n",
    "print(name.__class__)\n",
    "\n",
    "def foo(): pass\n",
    "print(foo.__class__)\n",
    "print(foo().__class__) # This returns NoneType, becuase the function itself returns nothing\n",
    "\n",
    "class Bar(object): pass\n",
    "b = Bar()\n",
    "print(b.__class__)\n",
    "print(Bar.__class__)"
   ]
  },
  {
   "cell_type": "code",
   "execution_count": 149,
   "metadata": {
    "collapsed": false
   },
   "outputs": [
    {
     "data": {
      "text/plain": [
       "type"
      ]
     },
     "execution_count": 149,
     "metadata": {},
     "output_type": "execute_result"
    }
   ],
   "source": [
    "age.__class__.__class__"
   ]
  },
  {
   "cell_type": "code",
   "execution_count": 150,
   "metadata": {
    "collapsed": false
   },
   "outputs": [
    {
     "data": {
      "text/plain": [
       "type"
      ]
     },
     "execution_count": 150,
     "metadata": {},
     "output_type": "execute_result"
    }
   ],
   "source": [
    "name.__class__.__class__"
   ]
  },
  {
   "cell_type": "code",
   "execution_count": 151,
   "metadata": {
    "collapsed": false
   },
   "outputs": [
    {
     "data": {
      "text/plain": [
       "type"
      ]
     },
     "execution_count": 151,
     "metadata": {},
     "output_type": "execute_result"
    }
   ],
   "source": [
    "foo.__class__.__class__"
   ]
  },
  {
   "cell_type": "code",
   "execution_count": 152,
   "metadata": {
    "collapsed": false
   },
   "outputs": [
    {
     "data": {
      "text/plain": [
       "type"
      ]
     },
     "execution_count": 152,
     "metadata": {},
     "output_type": "execute_result"
    }
   ],
   "source": [
    "b.__class__.__class__"
   ]
  },
  {
   "cell_type": "code",
   "execution_count": 160,
   "metadata": {
    "collapsed": false
   },
   "outputs": [
    {
     "ename": "AttributeError",
     "evalue": "type object 'Foo' has no attribute '__metaclass__'",
     "output_type": "error",
     "traceback": [
      "\u001b[0;31m---------------------------------------------------------------------------\u001b[0m",
      "\u001b[0;31mAttributeError\u001b[0m                            Traceback (most recent call last)",
      "\u001b[0;32m<ipython-input-160-c54749aa4ce3>\u001b[0m in \u001b[0;36m<module>\u001b[0;34m()\u001b[0m\n\u001b[0;32m----> 1\u001b[0;31m \u001b[0mFoo\u001b[0m\u001b[0;34m.\u001b[0m\u001b[0m__metaclass__\u001b[0m\u001b[0;34m\u001b[0m\u001b[0m\n\u001b[0m",
      "\u001b[0;31mAttributeError\u001b[0m: type object 'Foo' has no attribute '__metaclass__'"
     ]
    }
   ],
   "source": [
    "Foo.__metaclass__"
   ]
  },
  {
   "cell_type": "code",
   "execution_count": 167,
   "metadata": {
    "collapsed": false
   },
   "outputs": [
    {
     "name": "stdout",
     "output_type": "stream",
     "text": [
      "print hasattr(Foo,'bar')\n",
      "False\n",
      "print(hasattr(Foo,'BAR'))\n",
      "True\n",
      "bip\n"
     ]
    }
   ],
   "source": [
    "# Lets create a metaclass that ensures that all the attributes in a class\n",
    "# are in uppercase\n",
    "\n",
    "# The meta class with automatically get passed the same argument\n",
    "# that you usually pass to `type`\n",
    "def upper_attr(future_class_name, future_class_parents, future_class_attr):\n",
    "    \"\"\"\n",
    "    Returns a class object, with the list of its attribute turned into\n",
    "    uppercase\n",
    "    \"\"\"\n",
    "    \n",
    "    # Pick up any attribute that doesn't start with `__` and uppercase it\n",
    "    uppercase_attr = {}\n",
    "    for name, value in future_class_attr.items():\n",
    "        if not name.startswith('__'):\n",
    "            uppercase_attr[name.upper()] = value\n",
    "        else:\n",
    "            uppercase_attr[name] = value\n",
    "    \n",
    "    # let `type` do the class creation\n",
    "    \n",
    "    return type(future_class_name, future_class_parents, uppercase_attr)\n",
    "\n",
    "__metaclass__ = upper_attr # This will affect all classes in the module\n",
    "\n",
    "class Foo(): # global __metaclass__ won't work with \"object\" though\n",
    "    # but we can define __metaclass__ here insteaed to affect only this class\n",
    "    # and this will work with \"object\" children\n",
    "    bar = 'bip'\n",
    "\n",
    "print(\"print hasattr(Foo,'bar')\")\n",
    "print(hasattr(Foo,'bar'))\n",
    "\n",
    "print(\"print(hasattr(Foo,'BAR'))\")\n",
    "print(hasattr(Foo,'BAR'))\n",
    "\n",
    "f = Foo()\n",
    "print(f.BAR)"
   ]
  },
  {
   "cell_type": "code",
   "execution_count": 168,
   "metadata": {
    "collapsed": true
   },
   "outputs": [],
   "source": [
    "# Now lets try exactly same but use a real class for a metaclass\n",
    "# remember that `type` is actually a class like `str` and `int`\n",
    "\n",
    "class UpperAttrMetaClass(type):\n",
    "    # __new__ is the method called before __init__\n",
    "    # its the method that creates the object and returns it\n",
    "    # while __init__ just initializes the object passed as parameter\n",
    "    # you rarely use __new__, except when you want to control how the\n",
    "    # object is created\n",
    "    # Here the created object is the class, and we want to customize it\n",
    "    # So we override __new__\n",
    "    # you can do some stuff in __init__ too if you wish\n",
    "    # some advanced use involves overriding __call__ as well, but we won't\n",
    "    # see this for now.\n",
    "    \n",
    "    def __new__(upperattr_metaclass, future_class_name,\n",
    "               future_class_parents, future_class_attr):\n",
    "        uppercase_attr = {}\n",
    "        \n",
    "        for name, value in future_class_attr.items():\n",
    "            if not name.startswith('__'):\n",
    "                uppercase_attr[name.upper()] = value\n",
    "            else:\n",
    "                uppercase_attr[name] = value\n",
    "        \n",
    "        return type(future_class_name, future_class_parents, uppercase_attr)"
   ]
  },
  {
   "cell_type": "code",
   "execution_count": 180,
   "metadata": {
    "collapsed": false
   },
   "outputs": [
    {
     "name": "stdout",
     "output_type": "stream",
     "text": [
      "print hasattr(Foo,'bar')\n",
      "False\n",
      "print(hasattr(Foo,'BAR'))\n",
      "True\n",
      "bip\n"
     ]
    }
   ],
   "source": [
    "__metaclass__ = UpperAttrMetaClass\n",
    "\n",
    "class Foo2():\n",
    "    bar = 'bip'\n",
    "\n",
    "print(\"print hasattr(Foo,'bar')\")\n",
    "print(hasattr(Foo,'bar'))\n",
    "\n",
    "print(\"print(hasattr(Foo,'BAR'))\")\n",
    "print(hasattr(Foo,'BAR'))\n",
    "\n",
    "f = Foo()\n",
    "print(f.BAR)"
   ]
  },
  {
   "cell_type": "markdown",
   "metadata": {},
   "source": [
    "But what we did in UpperAttrMetaClass is not really OOP. We call `type` directly and we don't override or call the parent __new__. Lets do it."
   ]
  },
  {
   "cell_type": "code",
   "execution_count": 183,
   "metadata": {
    "collapsed": false
   },
   "outputs": [],
   "source": [
    "class UpperAttrMetaClass2(type):\n",
    "    \n",
    "    def __new__(upperattr_metaclass, future_class_name,\n",
    "               future_class_parents, future_class_attr):\n",
    "        \n",
    "        upperclass_attr = {}\n",
    "        for name, value in future_class_attr.items():\n",
    "            if not name.startswith('__'):\n",
    "                upperclass_attr[name.upper()] = value\n",
    "            else:\n",
    "                upperclass_attr[name] = value\n",
    "        \n",
    "        # reise the type.__new__ method \n",
    "        # this is basic OOP, nothing magic in there\n",
    "        return type.__new__(upperattr_metaclass, future_class_name, \n",
    "                           future_class_parents, upperclass_attr)"
   ]
  },
  {
   "cell_type": "markdown",
   "metadata": {},
   "source": [
    "You may have noticed the extra argument `upperattr_metaclass` in the return statement. There's nothing special about it: `__new__` always receives the class it's defined in, as first parameter. Just like you have `self` for ordinary methods which receive the instance as first parameter, or the defining class for class methods"
   ]
  },
  {
   "cell_type": "code",
   "execution_count": 186,
   "metadata": {
    "collapsed": false
   },
   "outputs": [
    {
     "name": "stdout",
     "output_type": "stream",
     "text": [
      "print(hasattr(Foo, 'bar'))\n",
      "False\n",
      "print(hasattr(Foo, 'BAR'))\n",
      "True\n"
     ]
    }
   ],
   "source": [
    "__metaclass__ = UpperAttrMetaClass2\n",
    "\n",
    "class Foo():\n",
    "    \n",
    "    bar = 'something'\n",
    "\n",
    "print(\"print(hasattr(Foo, 'bar'))\")\n",
    "print(hasattr(Foo, 'bar'))\n",
    "\n",
    "print(\"print(hasattr(Foo, 'BAR'))\")\n",
    "print(hasattr(Foo, 'BAR'))"
   ]
  },
  {
   "cell_type": "markdown",
   "metadata": {},
   "source": [
    "Of course, the names I used here are long for the sake of clarity, but like for `self`, all the arguments have conventional names. So a real production metaclass would look like this"
   ]
  },
  {
   "cell_type": "code",
   "execution_count": 191,
   "metadata": {
    "collapsed": true
   },
   "outputs": [],
   "source": [
    "class UpperAttrMetaClass3(type):\n",
    "    \n",
    "    def __new__(cls, clsname, base, dct):\n",
    "        \n",
    "        uppercase_attr = {}\n",
    "        for name, value in dct.items():\n",
    "            if not name.startswith('__'):\n",
    "                uppercase_attr[name.upper()] = value\n",
    "            else:\n",
    "                uppercase_attr[name] = value\n",
    "        \n",
    "        return type.__new__(cls, clsname, base, uppercase_attr)"
   ]
  },
  {
   "cell_type": "markdown",
   "metadata": {},
   "source": [
    "Lets try this out"
   ]
  },
  {
   "cell_type": "code",
   "execution_count": 193,
   "metadata": {
    "collapsed": false
   },
   "outputs": [
    {
     "name": "stdout",
     "output_type": "stream",
     "text": [
      "False\n",
      "True\n"
     ]
    }
   ],
   "source": [
    "__metaclass__ = UpperAttrMetaClass3\n",
    "\n",
    "class Foo():\n",
    "    \n",
    "    bar = 'something'\n",
    "    \n",
    "print(hasattr(Foo, 'bar'))\n",
    "print(hasattr(Foo, 'BAR'))"
   ]
  },
  {
   "cell_type": "markdown",
   "metadata": {},
   "source": [
    "We can make it even cleaner by using `super` which will ease inheritance (because yes, you can have metaclasses, inheriting from metaclasses, inheriting from type)"
   ]
  },
  {
   "cell_type": "code",
   "execution_count": 194,
   "metadata": {
    "collapsed": true
   },
   "outputs": [],
   "source": [
    "class UpperAttrMetaClass4(type):\n",
    "    \n",
    "    def __new__(cls, clsname, base, dct):\n",
    "        \n",
    "        uppercase_attr = {}\n",
    "        for name, value in dct.items():\n",
    "            if not name.startswith('__'):\n",
    "                uppercase_attr[name.upper()] = value\n",
    "            else:\n",
    "                uppercase_attr[name] = value\n",
    "        \n",
    "        return super(UpperAttrMetaClass4, cls).__new__(cls, clsname, base, uppercase_attr)"
   ]
  },
  {
   "cell_type": "code",
   "execution_count": 199,
   "metadata": {
    "collapsed": false
   },
   "outputs": [
    {
     "name": "stdout",
     "output_type": "stream",
     "text": [
      "False\n",
      "True\n"
     ]
    }
   ],
   "source": [
    "__metaclass__ = UpperAttrMetaClass4\n",
    "\n",
    "class Foo():\n",
    "    \n",
    "    bar = 'something else this time'\n",
    "    \n",
    "print(hasattr(Foo, 'bar'))\n",
    "print(hasattr(Foo, 'BAR'))"
   ]
  },
  {
   "cell_type": "code",
   "execution_count": null,
   "metadata": {
    "collapsed": true
   },
   "outputs": [],
   "source": []
  }
 ],
 "metadata": {
  "kernelspec": {
   "display_name": "Python 2",
   "language": "python",
   "name": "python2"
  },
  "language_info": {
   "codemirror_mode": {
    "name": "ipython",
    "version": 2
   },
   "file_extension": ".py",
   "mimetype": "text/x-python",
   "name": "python",
   "nbconvert_exporter": "python",
   "pygments_lexer": "ipython2",
   "version": "2.7.11"
  }
 },
 "nbformat": 4,
 "nbformat_minor": 1
}
