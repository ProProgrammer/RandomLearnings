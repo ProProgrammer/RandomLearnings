{
 "cells": [
  {
   "cell_type": "markdown",
   "metadata": {
    "collapsed": false
   },
   "source": [
    "# Motivation to where it comes from"
   ]
  },
  {
   "cell_type": "code",
   "execution_count": 5,
   "metadata": {
    "collapsed": false
   },
   "outputs": [
    {
     "name": "stdout",
     "output_type": "stream",
     "text": [
      "old <type 'classobj'>\n",
      "new <type 'type'>\n"
     ]
    }
   ],
   "source": [
    "%%python2\n",
    "\n",
    "class Old:\n",
    "    pass\n",
    "\n",
    "class New(object):\n",
    "    pass\n",
    "\n",
    "print 'old', type(Old)\n",
    "print 'new', type(New)"
   ]
  },
  {
   "cell_type": "code",
   "execution_count": 11,
   "metadata": {
    "collapsed": false
   },
   "outputs": [
    {
     "name": "stdout",
     "output_type": "stream",
     "text": [
      "new2: <type 'type'>\n"
     ]
    }
   ],
   "source": [
    "%%python2\n",
    "\n",
    "class New2:\n",
    "    __metaclass__ = type\n",
    "\n",
    "print 'new2:', type(New2)"
   ]
  },
  {
   "cell_type": "code",
   "execution_count": 12,
   "metadata": {
    "collapsed": false
   },
   "outputs": [
    {
     "name": "stdout",
     "output_type": "stream",
     "text": [
      "new3 <type 'type'>\n"
     ]
    }
   ],
   "source": [
    "%%python2\n",
    "\n",
    "__metaclass__ = type\n",
    "\n",
    "class New3:\n",
    "    pass\n",
    "\n",
    "print 'new3', type(New3)"
   ]
  },
  {
   "cell_type": "markdown",
   "metadata": {},
   "source": [
    "# Building Classes Dynamically"
   ]
  },
  {
   "cell_type": "code",
   "execution_count": 14,
   "metadata": {
    "collapsed": true
   },
   "outputs": [],
   "source": [
    "class A(object):\n",
    "    pass"
   ]
  },
  {
   "cell_type": "code",
   "execution_count": 16,
   "metadata": {
    "collapsed": true
   },
   "outputs": [],
   "source": [
    "A = type('A', (object,), {'x': 1}) # This is same as class A(object): pass"
   ]
  },
  {
   "cell_type": "code",
   "execution_count": 18,
   "metadata": {
    "collapsed": false
   },
   "outputs": [
    {
     "data": {
      "text/plain": [
       "1"
      ]
     },
     "execution_count": 18,
     "metadata": {},
     "output_type": "execute_result"
    }
   ],
   "source": [
    "A.x"
   ]
  },
  {
   "cell_type": "code",
   "execution_count": 19,
   "metadata": {
    "collapsed": true
   },
   "outputs": [],
   "source": [
    "def __init__(self, x):\n",
    "    self.x = x\n",
    "\n",
    "def add(self, a, b):\n",
    "    return a + b"
   ]
  },
  {
   "cell_type": "code",
   "execution_count": 20,
   "metadata": {
    "collapsed": true
   },
   "outputs": [],
   "source": [
    "C = type('C', (object, ), {'__init__': __init__, 'add': add})\n",
    "# This is same as defining a class using the usual syntax"
   ]
  },
  {
   "cell_type": "code",
   "execution_count": 21,
   "metadata": {
    "collapsed": true
   },
   "outputs": [],
   "source": [
    "c = C(10)"
   ]
  },
  {
   "cell_type": "code",
   "execution_count": 22,
   "metadata": {
    "collapsed": false
   },
   "outputs": [
    {
     "data": {
      "text/plain": [
       "10"
      ]
     },
     "execution_count": 22,
     "metadata": {},
     "output_type": "execute_result"
    }
   ],
   "source": [
    "c.x"
   ]
  },
  {
   "cell_type": "code",
   "execution_count": 25,
   "metadata": {
    "collapsed": false
   },
   "outputs": [
    {
     "data": {
      "text/plain": [
       "9"
      ]
     },
     "execution_count": 25,
     "metadata": {},
     "output_type": "execute_result"
    }
   ],
   "source": [
    "c.add(4, 5)"
   ]
  },
  {
   "cell_type": "markdown",
   "metadata": {},
   "source": [
    "# Lets try writing a metaclass and the only thing you have to do is inherit from type\n",
    "if you inherit from object, you get a normal class, if you inherit from type (which is one level higher), then you get the new type"
   ]
  },
  {
   "cell_type": "code",
   "execution_count": 26,
   "metadata": {
    "collapsed": true
   },
   "outputs": [],
   "source": [
    "class NewMeta(type):\n",
    "    def __str__(cls):\n",
    "        # I am one level higher hence we recommend using cls\n",
    "        # instead of self\n",
    "        return 'Works'"
   ]
  },
  {
   "cell_type": "code",
   "execution_count": 31,
   "metadata": {
    "collapsed": false
   },
   "outputs": [],
   "source": [
    "# This is how it is done in Python 3\n",
    "class B(metaclass=NewMeta):\n",
    "    pass"
   ]
  },
  {
   "cell_type": "code",
   "execution_count": 32,
   "metadata": {
    "collapsed": false
   },
   "outputs": [
    {
     "data": {
      "text/plain": [
       "'Works'"
      ]
     },
     "execution_count": 32,
     "metadata": {},
     "output_type": "execute_result"
    }
   ],
   "source": [
    "str(B) # Should return 'Works'"
   ]
  },
  {
   "cell_type": "code",
   "execution_count": 40,
   "metadata": {
    "collapsed": false
   },
   "outputs": [
    {
     "name": "stdout",
     "output_type": "stream",
     "text": [
      "Works\n"
     ]
    }
   ],
   "source": [
    "%%python2\n",
    "# For python 2:\n",
    "\n",
    "class NewMeta(type):\n",
    "    def __str__(cls):\n",
    "        # I am one level higher hence we recommend using cls\n",
    "        # instead of self\n",
    "        return 'Works'\n",
    "    \n",
    "class B:\n",
    "    __metaclass__ = NewMeta\n",
    "\n",
    "print B"
   ]
  },
  {
   "cell_type": "code",
   "execution_count": 44,
   "metadata": {
    "collapsed": false
   },
   "outputs": [],
   "source": [
    "class MyMeta(type):\n",
    "    def __new__(mcl, name, bases, cdict):\n",
    "        \"\"\"\n",
    "        mcl - Metaclass Name\n",
    "        name - Name of the class\n",
    "        bases - Tuple of parent classes\n",
    "        cdict - Dictionary of class Attributes\n",
    "        \"\"\"\n",
    "        \n",
    "        print('mcl:', mcl)\n",
    "        print('name:', name)\n",
    "        print('bases:', bases)\n",
    "        print('cdict:', cdict)\n",
    "        \n",
    "        return super(MyMeta, mcl).__new__(mcl, name, bases, cdict)"
   ]
  },
  {
   "cell_type": "code",
   "execution_count": 45,
   "metadata": {
    "collapsed": false,
    "scrolled": true
   },
   "outputs": [
    {
     "name": "stdout",
     "output_type": "stream",
     "text": [
      "mcl: <class '__main__.MyMeta'>\n",
      "name: MyClass\n",
      "bases: ()\n",
      "cdict: {'__module__': '__main__', '__metaclass__': <class '__main__.MyMeta'>}\n"
     ]
    }
   ],
   "source": [
    "class MyClass:\n",
    "    __metaclass__ = MyMeta\n",
    "    pass\n"
   ]
  },
  {
   "cell_type": "code",
   "execution_count": 46,
   "metadata": {
    "collapsed": false
   },
   "outputs": [
    {
     "name": "stdout",
     "output_type": "stream",
     "text": [
      "Descriptors.ipynb                    descriptors_metaclasses_handout.pdf\r\n",
      "Metaclasses.ipynb                    \u001b[34mmetaclasses\u001b[m\u001b[m/\r\n",
      "\u001b[34mdeco_meta\u001b[m\u001b[m/                           \u001b[34mproperties\u001b[m\u001b[m/\r\n",
      "deco_meta notes                      survey_link.txt\r\n",
      "\u001b[34mdescriptors\u001b[m\u001b[m/\r\n"
     ]
    }
   ],
   "source": [
    "ls"
   ]
  },
  {
   "cell_type": "code",
   "execution_count": 47,
   "metadata": {
    "collapsed": false
   },
   "outputs": [
    {
     "name": "stdout",
     "output_type": "stream",
     "text": [
      "/Users/deep/Desktop/deco_meta/metaclasses\n"
     ]
    }
   ],
   "source": [
    "cd metaclasses/"
   ]
  },
  {
   "cell_type": "code",
   "execution_count": 48,
   "metadata": {
    "collapsed": false
   },
   "outputs": [
    {
     "name": "stdout",
     "output_type": "stream",
     "text": [
      "autometa_python2.py          prepare.py\r\n",
      "base_conflict.py             problem_autometa_python2.py\r\n",
      "class_deco.py                \u001b[31mslotstyped.py\u001b[m\u001b[m*\r\n",
      "classwatcher.py              submeta.py\r\n",
      "meta_2_3.py                  use_autometa_python2.py\r\n",
      "\u001b[31mnoclassattr.py\u001b[m\u001b[m*              use_classwatcher.py\r\n"
     ]
    }
   ],
   "source": [
    "ls"
   ]
  },
  {
   "cell_type": "code",
   "execution_count": null,
   "metadata": {
    "collapsed": true
   },
   "outputs": [],
   "source": [
    "# %load meta_2_3.py\n",
    "# file: meta_2_3.py\n",
    "\n",
    "\"\"\"\n",
    "The code is a bit hard to understand. The basic idea is exploiting the idea\n",
    "that metaclasses can customize class creation and are picked by by the parent\n",
    "class. This particular implementation uses a metaclass to remove its own parent\n",
    "from the inheritance tree on subclassing. The end result is that the function\n",
    "creates a dummy class with a dummy metaclass. Once subclassed the dummy\n",
    "classes metaclass is used which has a constructor that basically instances a\n",
    "new class from the original parent and the actually intended metaclass.\n",
    "That way the dummy class and dummy metaclass never show up.\n",
    "\n",
    "From:\n",
    " http://lucumr.pocoo.org/2013/5/21/porting-to-python-3-redux/#metaclass-syntax-changes\n",
    "\n",
    "Used in:\n",
    "\n",
    "* Jinja2\n",
    "* SQLAlchemy\n",
    "* future (python-future.org)\n",
    "\n",
    "\"\"\"\n",
    "\n",
    "from __future__ import print_function\n",
    "import platform\n",
    "\n",
    "\n",
    "# from jinja2/_compat.py\n",
    "def with_metaclass(meta, *bases):\n",
    "    # This requires a bit of explanation: the basic idea is to make a\n",
    "    # dummy metaclass for one level of class instanciation that replaces\n",
    "    # itself with the actual metaclass.  Because of internal type checks\n",
    "    # we also need to make sure that we downgrade the custom metaclass\n",
    "    # for one level to something closer to type (that's why __call__ and\n",
    "    # __init__ comes back from type etc.).\n",
    "    #\n",
    "    # This has the advantage over six.with_metaclass in that it does not\n",
    "    # introduce dummy classes into the final MRO.\n",
    "    class metaclass(meta):\n",
    "        __call__ = type.__call__\n",
    "        __init__ = type.__init__\n",
    "\n",
    "        def __new__(cls, name, this_bases, d):\n",
    "            if this_bases is None:\n",
    "                return type.__new__(cls, name, (), d)\n",
    "            return meta(name, bases, d)\n",
    "\n",
    "    return metaclass('temporary_class', None, {})\n",
    "\n",
    "\n",
    "if __name__ == '__main__':\n",
    "\n",
    "    class BaseClass(object):\n",
    "        pass\n",
    "\n",
    "\n",
    "    class MetaClass(type):\n",
    "        \"\"\"Metaclass for Python 2 and 3.\n",
    "        \"\"\"\n",
    "        def __init__(cls, name, bases, cdict):\n",
    "            print('It works with {impl} version {ver}.'.format(\n",
    "                impl=platform.python_implementation(),\n",
    "                ver=platform.python_version()))\n",
    "            super(MetaClass, cls).__init__(name, bases, cdict)\n",
    "\n",
    "\n",
    "    class Class(with_metaclass(MetaClass, BaseClass)):\n",
    "        # BaseClass is optional.\n",
    "        pass\n"
   ]
  },
  {
   "cell_type": "code",
   "execution_count": 56,
   "metadata": {
    "collapsed": false
   },
   "outputs": [
    {
     "name": "stdout",
     "output_type": "stream",
     "text": [
      "Hello from AttributeLess.\n"
     ]
    },
    {
     "ename": "Exception",
     "evalue": "Found non-callable class attribute \"a\". Only methods are allowed.",
     "output_type": "error",
     "traceback": [
      "\u001b[0;31m---------------------------------------------------------------------------\u001b[0m",
      "\u001b[0;31mException\u001b[0m                                 Traceback (most recent call last)",
      "\u001b[0;32m<ipython-input-56-8cba039ec3a9>\u001b[0m in \u001b[0;36m<module>\u001b[0;34m()\u001b[0m\n\u001b[1;32m     43\u001b[0m \u001b[0;34m\u001b[0m\u001b[0m\n\u001b[1;32m     44\u001b[0m \u001b[0;34m\u001b[0m\u001b[0m\n\u001b[0;32m---> 45\u001b[0;31m     \u001b[0;32mclass\u001b[0m \u001b[0mWithAttribute\u001b[0m\u001b[0;34m(\u001b[0m\u001b[0mAttributeChecker\u001b[0m\u001b[0;34m)\u001b[0m\u001b[0;34m:\u001b[0m\u001b[0;34m\u001b[0m\u001b[0m\n\u001b[0m\u001b[1;32m     46\u001b[0m         \"\"\"Has non-callable class attribute.\n\u001b[1;32m     47\u001b[0m         \u001b[0mWill\u001b[0m \u001b[0;32mraise\u001b[0m \u001b[0man\u001b[0m \u001b[0mexception\u001b[0m\u001b[0;34m.\u001b[0m\u001b[0;34m\u001b[0m\u001b[0m\n",
      "\u001b[0;32m<ipython-input-56-8cba039ec3a9>\u001b[0m in \u001b[0;36m__init__\u001b[0;34m(cls, name, bases, cdict)\u001b[0m\n\u001b[1;32m     17\u001b[0m                 \u001b[0mmsg\u001b[0m \u001b[0;34m=\u001b[0m \u001b[0;34m'Found non-callable class attribute \"%s\". '\u001b[0m \u001b[0;34m%\u001b[0m \u001b[0mkey\u001b[0m\u001b[0;34m\u001b[0m\u001b[0m\n\u001b[1;32m     18\u001b[0m                 \u001b[0mmsg\u001b[0m \u001b[0;34m+=\u001b[0m \u001b[0;34m'Only methods are allowed.'\u001b[0m\u001b[0;34m\u001b[0m\u001b[0m\n\u001b[0;32m---> 19\u001b[0;31m                 \u001b[0;32mraise\u001b[0m \u001b[0mException\u001b[0m\u001b[0;34m(\u001b[0m\u001b[0mmsg\u001b[0m\u001b[0;34m)\u001b[0m\u001b[0;34m\u001b[0m\u001b[0m\n\u001b[0m\u001b[1;32m     20\u001b[0m         \u001b[0msuper\u001b[0m\u001b[0;34m(\u001b[0m\u001b[0mNoClassAttributes\u001b[0m\u001b[0;34m,\u001b[0m \u001b[0mcls\u001b[0m\u001b[0;34m)\u001b[0m\u001b[0;34m.\u001b[0m\u001b[0m__init__\u001b[0m\u001b[0;34m(\u001b[0m\u001b[0mname\u001b[0m\u001b[0;34m,\u001b[0m \u001b[0mbases\u001b[0m\u001b[0;34m,\u001b[0m \u001b[0mcdict\u001b[0m\u001b[0;34m)\u001b[0m\u001b[0;34m\u001b[0m\u001b[0m\n\u001b[1;32m     21\u001b[0m \u001b[0;34m\u001b[0m\u001b[0m\n",
      "\u001b[0;31mException\u001b[0m: Found non-callable class attribute \"a\". Only methods are allowed."
     ]
    }
   ],
   "source": [
    "# %load noclassattr.py\n",
    "#file: noclassattr.py\n",
    "\n",
    "\"\"\"Preventing non-callable class attributes with a metaclass.\n",
    "\"\"\"\n",
    "\n",
    "from __future__ import print_function\n",
    "\n",
    "class NoClassAttributes(type):\n",
    "    \"\"\"No non-callable class attributes allowed\n",
    "    \"\"\"\n",
    "    def __init__(cls, name, bases, cdict):\n",
    "        allowed = set(['__module__', '__metaclass__', '__doc__',\n",
    "                       '__qualname__'])\n",
    "        for key, value in cdict.items():\n",
    "            if (key not in allowed) and (not callable(value)):\n",
    "                msg = 'Found non-callable class attribute \"%s\". ' % key\n",
    "                msg += 'Only methods are allowed.'\n",
    "                raise Exception(msg)\n",
    "        super(NoClassAttributes, cls).__init__(name, bases, cdict)\n",
    "\n",
    "\n",
    "if __name__ == '__main__':\n",
    "\n",
    "    from meta_2_3 import with_metaclass\n",
    "\n",
    "    class AttributeChecker:\n",
    "        \"\"\"Base class for meta.\n",
    "        \"\"\"\n",
    "        __metaclass__ = NoClassAttributes\n",
    "        pass\n",
    "\n",
    "    class AttributeLess(AttributeChecker):\n",
    "        \"\"\"Only methods work.\n",
    "        \"\"\"\n",
    "        def meth(self):\n",
    "            \"\"\"This is allowed'\n",
    "            \"\"\"\n",
    "            print('Hello from AttributeLess.')\n",
    "\n",
    "    attributeless = AttributeLess()\n",
    "    attributeless.meth()\n",
    "\n",
    "\n",
    "    class WithAttribute(AttributeChecker):\n",
    "        \"\"\"Has non-callable class attribute.\n",
    "        Will raise an exception.\n",
    "        \"\"\"\n",
    "        a = 10\n",
    "        def meth(self):\n",
    "            \"\"\"This is allowed'\n",
    "            \"\"\"\n",
    "            print('Hello from WithAttribute')\n",
    "\n"
   ]
  },
  {
   "cell_type": "code",
   "execution_count": 62,
   "metadata": {
    "collapsed": false
   },
   "outputs": [
    {
     "name": "stdout",
     "output_type": "stream",
     "text": [
      "Hello from AttributeLess.\n"
     ]
    },
    {
     "ename": "Exception",
     "evalue": "Found non-callable class attribute \"a\". Only methods are allowed.",
     "output_type": "error",
     "traceback": [
      "\u001b[0;31m---------------------------------------------------------------------------\u001b[0m",
      "\u001b[0;31mException\u001b[0m                                 Traceback (most recent call last)",
      "\u001b[0;32m<ipython-input-62-377f0dd2f7a3>\u001b[0m in \u001b[0;36m<module>\u001b[0;34m()\u001b[0m\n\u001b[1;32m     30\u001b[0m \u001b[0;34m\u001b[0m\u001b[0m\n\u001b[1;32m     31\u001b[0m     \u001b[0;34m@\u001b[0m\u001b[0mnoclassattr_deco\u001b[0m\u001b[0;34m\u001b[0m\u001b[0m\n\u001b[0;32m---> 32\u001b[0;31m     \u001b[0;32mclass\u001b[0m \u001b[0mWithAttribute\u001b[0m\u001b[0;34m(\u001b[0m\u001b[0mobject\u001b[0m\u001b[0;34m)\u001b[0m\u001b[0;34m:\u001b[0m\u001b[0;34m\u001b[0m\u001b[0m\n\u001b[0m\u001b[1;32m     33\u001b[0m         \"\"\"Has non-callable class attribute.\n\u001b[1;32m     34\u001b[0m         \u001b[0mWill\u001b[0m \u001b[0;32mraise\u001b[0m \u001b[0man\u001b[0m \u001b[0mexception\u001b[0m\u001b[0;34m.\u001b[0m\u001b[0;34m\u001b[0m\u001b[0m\n",
      "\u001b[0;32m<ipython-input-62-377f0dd2f7a3>\u001b[0m in \u001b[0;36mnoclassattr_deco\u001b[0;34m(cls)\u001b[0m\n\u001b[1;32m     11\u001b[0m             \u001b[0mmsg\u001b[0m \u001b[0;34m=\u001b[0m \u001b[0;34m'Found non-callable class attribute \"%s\". '\u001b[0m \u001b[0;34m%\u001b[0m \u001b[0mkey\u001b[0m\u001b[0;34m\u001b[0m\u001b[0m\n\u001b[1;32m     12\u001b[0m             \u001b[0mmsg\u001b[0m \u001b[0;34m+=\u001b[0m \u001b[0;34m'Only methods are allowed.'\u001b[0m\u001b[0;34m\u001b[0m\u001b[0m\n\u001b[0;32m---> 13\u001b[0;31m             \u001b[0;32mraise\u001b[0m \u001b[0mException\u001b[0m\u001b[0;34m(\u001b[0m\u001b[0mmsg\u001b[0m\u001b[0;34m)\u001b[0m\u001b[0;34m\u001b[0m\u001b[0m\n\u001b[0m\u001b[1;32m     14\u001b[0m     \u001b[0;32mreturn\u001b[0m \u001b[0mcls\u001b[0m\u001b[0;34m\u001b[0m\u001b[0m\n\u001b[1;32m     15\u001b[0m \u001b[0;34m\u001b[0m\u001b[0m\n",
      "\u001b[0;31mException\u001b[0m: Found non-callable class attribute \"a\". Only methods are allowed."
     ]
    }
   ],
   "source": [
    "# %load class_deco.py\n",
    "# file: class_deco.py\n",
    "\n",
    "def noclassattr_deco(cls):\n",
    "    \"\"\"Class decorator to allow only callable attributes.\n",
    "    \"\"\"\n",
    "    allowed = set(['__module__', '__metaclass__', '__doc__', '__qualname__',\n",
    "                   '__weakref__', '__dict__'])\n",
    "    for key, value in cls.__dict__.items():\n",
    "        if (key not in allowed) and (not callable(value)):\n",
    "            msg = 'Found non-callable class attribute \"%s\". ' % key\n",
    "            msg += 'Only methods are allowed.'\n",
    "            raise Exception(msg)\n",
    "    return cls\n",
    "\n",
    "\n",
    "if __name__ == '__main__':\n",
    "\n",
    "    @noclassattr_deco\n",
    "    class AttributeLess(object):\n",
    "        \"\"\"Only methods work.\n",
    "        \"\"\"\n",
    "        def meth(self):\n",
    "            \"\"\"This is allowed'\n",
    "            \"\"\"\n",
    "            print('Hello from AttributeLess.')\n",
    "\n",
    "    attributeless = AttributeLess()\n",
    "    attributeless.meth()\n",
    "\n",
    "    @noclassattr_deco\n",
    "    class WithAttribute(object):\n",
    "        \"\"\"Has non-callable class attribute.\n",
    "        Will raise an exception.\n",
    "        \"\"\"\n",
    "        a = 10\n",
    "        def meth(self):\n",
    "            \"\"\"This is allowed'\n",
    "            \"\"\"\n",
    "            print('Hello from WithAttribute')"
   ]
  },
  {
   "cell_type": "code",
   "execution_count": 64,
   "metadata": {
    "collapsed": false
   },
   "outputs": [
    {
     "name": "stdout",
     "output_type": "stream",
     "text": [
      "0\n",
      "5.5\n",
      "['__class__', '__delattr__', '__doc__', '__format__', '__getattribute__', '__hash__', '__init__', '__module__', '__new__', '__reduce__', '__reduce_ex__', '__repr__', '__setattr__', '__sizeof__', '__slots__', '__str__', '__subclasshook__', '_attr1', '_attr2', 'attr1', 'attr2']\n",
      "['_attr2', '_attr1']\n",
      "100\n",
      "cannot do this\n"
     ]
    }
   ],
   "source": [
    "# %load slotstyped.py\n",
    "# file: slotstyped.py\n",
    "\n",
    "\"\"\"Use of descriptor and metaclass to get slots with\n",
    "given types.\n",
    "\"\"\"\n",
    "\n",
    "from __future__ import print_function\n",
    "\n",
    "class TypDescriptor(object):\n",
    "    \"\"\"Descriptor with type.\n",
    "    \"\"\"\n",
    "\n",
    "    def __init__(self, data_type, default_value=None):\n",
    "        self.name = None\n",
    "        self._internal_name = None\n",
    "        self.data_type = data_type\n",
    "        if default_value:\n",
    "            self.default_value = default_value\n",
    "        else:\n",
    "            self.default_value = data_type()\n",
    "\n",
    "    def __get__(self, instance, cls):\n",
    "        return getattr(instance, self._internal_name, self.default_value)\n",
    "\n",
    "    def __set__(self, instance, value):\n",
    "        if not isinstance(value, self.data_type):\n",
    "            raise TypeError('Required data type is %s. Got %s' % (\n",
    "            self.data_type, type(value)))\n",
    "        setattr(instance, self._internal_name, value)\n",
    "\n",
    "    def __delete__(self, instance):\n",
    "        raise AttributeError('Cannot delete %r' % instance)\n",
    "\n",
    "\n",
    "class TypeProtected(type):\n",
    "    \"\"\"Metaclass to save descriptor values in slots.\n",
    "    \"\"\"\n",
    "\n",
    "    def __new__(mcl, name, bases, cdict):\n",
    "        slots = []\n",
    "        for attr, value in cdict.items():\n",
    "            if isinstance(value, TypDescriptor):\n",
    "                value.name = attr\n",
    "                value._internal_name = '_' + attr\n",
    "                slots.append(value._internal_name)\n",
    "        cdict['__slots__'] = slots\n",
    "        return super(TypeProtected, mcl).__new__(mcl, name, bases, cdict)\n",
    "\n",
    "\n",
    "if __name__ == '__main__':\n",
    "\n",
    "    from meta_2_3 import with_metaclass\n",
    "\n",
    "\n",
    "    class Typed(with_metaclass(TypeProtected)):\n",
    "        pass\n",
    "\n",
    "    class MyClass(Typed):\n",
    "        \"\"\"Test class.\"\"\"\n",
    "        attr1 = TypDescriptor(int)\n",
    "        attr2 = TypDescriptor(float, 5.5)\n",
    "\n",
    "\n",
    "    def main():\n",
    "        \"\"\"Test it.\n",
    "        \"\"\"\n",
    "        my_inst = MyClass()\n",
    "        print(my_inst.attr1)\n",
    "        print(my_inst.attr2)\n",
    "        print(dir(my_inst))\n",
    "        print(my_inst.__slots__)\n",
    "        my_inst.attr1 = 100\n",
    "        print(my_inst.attr1)\n",
    "        # this will fail\n",
    "        try:\n",
    "            my_inst.unknown = 100\n",
    "        except AttributeError:\n",
    "            print('cannot do this')\n",
    "\n",
    "    main()\n"
   ]
  },
  {
   "cell_type": "code",
   "execution_count": 66,
   "metadata": {
    "collapsed": true
   },
   "outputs": [],
   "source": [
    "# %load autometa_python2.py\n",
    "# file: autometa_python2.py\n",
    "\n",
    "\"\"\"Example usage of a metaclass.\n",
    "\n",
    "We change the metaclass of classes that inherit from `object`.\n",
    "\"\"\"\n",
    "\n",
    "from __future__ import print_function\n",
    "\n",
    "import __builtin__\n",
    "\n",
    "\n",
    "class DebugMeta(type):\n",
    "    \"\"\"Metaclass to be used for debugging.\n",
    "\n",
    "    \"\"\"\n",
    "    names = []\n",
    "    counter = -1  # Do not count definition of new_object`.\n",
    "\n",
    "    def __init__(cls, name, bases, cdict):\n",
    "        \"\"\"Store all class names and count how many classes are defined.\n",
    "        \"\"\"\n",
    "        if DebugMeta.counter >= 0:\n",
    "            DebugMeta.names.append('%s.%s' % (cls.__module__, name))\n",
    "            super(DebugMeta, cls).__init__(name, bases, cdict)\n",
    "        DebugMeta.counter += 1\n",
    "\n",
    "    def report(cls):\n",
    "        print('Defined %d classes.' % DebugMeta.counter)\n",
    "        print(DebugMeta.names)\n",
    "\n",
    "\n",
    "class new_object(object):\n",
    "    \"\"\"Replacement for the built-in `object`.\n",
    "    \"\"\"\n",
    "    __metaclass__ = DebugMeta\n",
    "\n",
    "\n",
    "def set_new_meta():\n",
    "    \"\"\"We actually change a built-in. This is a very strong measure.\n",
    "    \"\"\"\n",
    "    __builtin__.object = new_object\n",
    "\n",
    "\n",
    "\n",
    "\n",
    "\n"
   ]
  },
  {
   "cell_type": "code",
   "execution_count": 68,
   "metadata": {
    "collapsed": false
   },
   "outputs": [
    {
     "name": "stdout",
     "output_type": "stream",
     "text": [
      "Defined 2 classes.\n",
      "['__main__.SomeClass1', '__main__.SomeClass2']\n"
     ]
    }
   ],
   "source": [
    "# %load use_autometa_python2.py\n",
    "# file: use_autometa_python2.py\n",
    "\n",
    "from autometa_python2 import set_new_meta\n",
    "\n",
    "set_new_meta()\n",
    "\n",
    "class SomeClass1(object):\n",
    "    \"\"\"Test class.\n",
    "    \"\"\"\n",
    "    pass\n",
    "\n",
    "\n",
    "class SomeClass2(object):\n",
    "    \"\"\"Test class.\n",
    "    \"\"\"\n",
    "    def __init__(self, arg1):\n",
    "        self.arg1 = arg1\n",
    "\n",
    "    def compute(self, arg2):\n",
    "        return self.arg1 + arg2\n",
    "\n",
    "\n",
    "class SomeClass3():\n",
    "    \"\"\"Test class. Does NOT inherit from object.\n",
    "    \"\"\"\n",
    "    pass\n",
    "\n",
    "\n",
    "if __name__ == '__main__':\n",
    "\n",
    "    def test():\n",
    "        \"\"\"Make an instance and write the report.\n",
    "        \"\"\"\n",
    "        inst = SomeClass2(10)\n",
    "        assert inst.compute(10) == 20\n",
    "        object.report()\n",
    "\n",
    "    test()\n"
   ]
  },
  {
   "cell_type": "code",
   "execution_count": null,
   "metadata": {
    "collapsed": true
   },
   "outputs": [],
   "source": [
    "# %load problem_autometa_python2.py\n",
    "# file: problem_autometa_python2.py\n",
    "\n",
    "from autometa_python2 import set_new_meta\n",
    "\n",
    "set_new_meta()\n",
    "\n",
    "import argparse\n",
    "import doctest\n",
    "import logging\n",
    "import os\n",
    "import shutil\n",
    "import subprocess\n",
    "import sys\n",
    "import threading\n",
    "\n",
    "# Comment out one of the lines below to see the problem.\n",
    "# You may need to install the library.\n",
    "# Try other large libraries you use.\n",
    "\n",
    "# import matplotlib\n",
    "# import numpy\n",
    "# import sqlalchemy\n",
    "\n",
    "object.report()\n"
   ]
  },
  {
   "cell_type": "code",
   "execution_count": null,
   "metadata": {
    "collapsed": true
   },
   "outputs": [],
   "source": []
  }
 ],
 "metadata": {
  "kernelspec": {
   "display_name": "Python 2",
   "language": "python",
   "name": "python2"
  },
  "language_info": {
   "codemirror_mode": {
    "name": "ipython",
    "version": 2
   },
   "file_extension": ".py",
   "mimetype": "text/x-python",
   "name": "python",
   "nbconvert_exporter": "python",
   "pygments_lexer": "ipython2",
   "version": "2.7.11"
  }
 },
 "nbformat": 4,
 "nbformat_minor": 1
}
