{
 "cells": [
  {
   "cell_type": "markdown",
   "metadata": {},
   "source": [
    "# Practicing Python Generators from [Python generators and being lazy](http://naiquevin.github.io/python-generators-and-being-lazy.html)"
   ]
  },
  {
   "cell_type": "markdown",
   "metadata": {},
   "source": [
    "# *Note: The last example is this walkthrough and no longer works*"
   ]
  },
  {
   "cell_type": "markdown",
   "metadata": {
    "collapsed": true
   },
   "source": [
    "## A simple Example"
   ]
  },
  {
   "cell_type": "code",
   "execution_count": 6,
   "metadata": {
    "collapsed": false
   },
   "outputs": [
    {
     "name": "stdout",
     "output_type": "stream",
     "text": [
      "<generator object gen at 0x1103a4b90>\n"
     ]
    }
   ],
   "source": [
    "def gen():\n",
    "    for i in range(1, 6):\n",
    "        yield i\n",
    "\n",
    "print gen()"
   ]
  },
  {
   "cell_type": "code",
   "execution_count": 5,
   "metadata": {
    "collapsed": false
   },
   "outputs": [
    {
     "data": {
      "text/plain": [
       "generator"
      ]
     },
     "execution_count": 5,
     "metadata": {},
     "output_type": "execute_result"
    }
   ],
   "source": [
    "g = gen()\n",
    "type(g)\n",
    "# The above line returns a generator object although there is no return in the gen() function\n",
    "# A function with yield with magically return a generator object"
   ]
  },
  {
   "cell_type": "markdown",
   "metadata": {},
   "source": [
    "The calls to the function will not execute any code inside it yet.\n",
    "For that we need to call the generator object's `next` method"
   ]
  },
  {
   "cell_type": "code",
   "execution_count": 6,
   "metadata": {
    "collapsed": false
   },
   "outputs": [
    {
     "data": {
      "text/plain": [
       "1"
      ]
     },
     "execution_count": 6,
     "metadata": {},
     "output_type": "execute_result"
    }
   ],
   "source": [
    "g.next()"
   ]
  },
  {
   "cell_type": "code",
   "execution_count": 7,
   "metadata": {
    "collapsed": false
   },
   "outputs": [
    {
     "name": "stdout",
     "output_type": "stream",
     "text": [
      "hello, taking break from generator\n"
     ]
    }
   ],
   "source": [
    "print 'hello, taking break from generator'"
   ]
  },
  {
   "cell_type": "code",
   "execution_count": 8,
   "metadata": {
    "collapsed": false
   },
   "outputs": [
    {
     "data": {
      "text/plain": [
       "2"
      ]
     },
     "execution_count": 8,
     "metadata": {},
     "output_type": "execute_result"
    }
   ],
   "source": [
    "g.next()"
   ]
  },
  {
   "cell_type": "code",
   "execution_count": 9,
   "metadata": {
    "collapsed": false
   },
   "outputs": [
    {
     "data": {
      "text/plain": [
       "3"
      ]
     },
     "execution_count": 9,
     "metadata": {},
     "output_type": "execute_result"
    }
   ],
   "source": [
    "g.next()"
   ]
  },
  {
   "cell_type": "markdown",
   "metadata": {},
   "source": [
    "- On first call - yield statement is executed once and a value is returned\n",
    "- At the same time, the control is returned back to the calling code\n",
    "- On next call to the `next` method, the control goes back to the function and it can resume the execution from where it left with full access to the local vars"
   ]
  },
  {
   "cell_type": "markdown",
   "metadata": {},
   "source": [
    "## [Interator Protocol](http://docs.python.org/2/library/stdtypes.html?highlight=iterator#iterator-types) and Generator expressions"
   ]
  },
  {
   "cell_type": "markdown",
   "metadata": {},
   "source": [
    "### Iterator Protocol basically means:\n",
    "- It implements `next` and `__iter__` methods\n",
    "- Raises `StopIteration` exception when no more values can be yielded\n",
    "- Hence we can use for loop to generate values from a generator instead of calling the next method manually.\n",
    "\n",
    "- `for` loop will implicitly handle the `StopIteration` and when that happens, will end the loop\n"
   ]
  },
  {
   "cell_type": "code",
   "execution_count": 10,
   "metadata": {
    "collapsed": false
   },
   "outputs": [
    {
     "name": "stdout",
     "output_type": "stream",
     "text": [
      "4\n",
      "5\n"
     ]
    }
   ],
   "source": [
    "for i in g:\n",
    "    print i"
   ]
  },
  {
   "cell_type": "markdown",
   "metadata": {},
   "source": [
    "### Generator Expressions (just like list has list comprehensions)\n",
    "- The syntax is similar, only change: round brackets `()` instead of square brackets `[]`\n",
    "- And that this will give us an iterator (a generator object) instead of an interable (a list in memory)"
   ]
  },
  {
   "cell_type": "code",
   "execution_count": 11,
   "metadata": {
    "collapsed": true
   },
   "outputs": [],
   "source": [
    "squares = [i*i for i in range(1, 11)] # list"
   ]
  },
  {
   "cell_type": "code",
   "execution_count": 12,
   "metadata": {
    "collapsed": false
   },
   "outputs": [
    {
     "data": {
      "text/plain": [
       "list"
      ]
     },
     "execution_count": 12,
     "metadata": {},
     "output_type": "execute_result"
    }
   ],
   "source": [
    "type(squares)"
   ]
  },
  {
   "cell_type": "code",
   "execution_count": 13,
   "metadata": {
    "collapsed": true
   },
   "outputs": [],
   "source": [
    "gen_squares = (i*i for i in range(1, 11)) # generator object"
   ]
  },
  {
   "cell_type": "code",
   "execution_count": 14,
   "metadata": {
    "collapsed": false
   },
   "outputs": [
    {
     "data": {
      "text/plain": [
       "generator"
      ]
     },
     "execution_count": 14,
     "metadata": {},
     "output_type": "execute_result"
    }
   ],
   "source": [
    "type(gen_squares)"
   ]
  },
  {
   "cell_type": "code",
   "execution_count": 15,
   "metadata": {
    "collapsed": false
   },
   "outputs": [
    {
     "data": {
      "text/plain": [
       "True"
      ]
     },
     "execution_count": 15,
     "metadata": {},
     "output_type": "execute_result"
    }
   ],
   "source": [
    "iter(gen_squares) is gen_squares"
   ]
  },
  {
   "cell_type": "markdown",
   "metadata": {},
   "source": [
    "## Why generators?"
   ]
  },
  {
   "cell_type": "markdown",
   "metadata": {},
   "source": [
    "Key difference\n",
    "- Generator gives out new values on the fly\n",
    "- Doesn't keep the elements in memory"
   ]
  },
  {
   "cell_type": "markdown",
   "metadata": {},
   "source": [
    "A function to give us an incremental values infinitely"
   ]
  },
  {
   "cell_type": "code",
   "execution_count": 17,
   "metadata": {
    "collapsed": true
   },
   "outputs": [],
   "source": [
    "def infinitely_incr(start=0):\n",
    "    n = start\n",
    "    while True:\n",
    "        n += 1\n",
    "        yield n"
   ]
  },
  {
   "cell_type": "code",
   "execution_count": 18,
   "metadata": {
    "collapsed": true
   },
   "outputs": [],
   "source": [
    "infi_incr = infinitely_incr()"
   ]
  },
  {
   "cell_type": "code",
   "execution_count": 19,
   "metadata": {
    "collapsed": false
   },
   "outputs": [
    {
     "data": {
      "text/plain": [
       "1"
      ]
     },
     "execution_count": 19,
     "metadata": {},
     "output_type": "execute_result"
    }
   ],
   "source": [
    "infi_incr.next()"
   ]
  },
  {
   "cell_type": "code",
   "execution_count": 20,
   "metadata": {
    "collapsed": false
   },
   "outputs": [
    {
     "data": {
      "text/plain": [
       "2"
      ]
     },
     "execution_count": 20,
     "metadata": {},
     "output_type": "execute_result"
    }
   ],
   "source": [
    "infi_incr.next()"
   ]
  },
  {
   "cell_type": "code",
   "execution_count": 21,
   "metadata": {
    "collapsed": false
   },
   "outputs": [
    {
     "data": {
      "text/plain": [
       "3"
      ]
     },
     "execution_count": 21,
     "metadata": {},
     "output_type": "execute_result"
    }
   ],
   "source": [
    "infi_incr.next()"
   ]
  },
  {
   "cell_type": "code",
   "execution_count": 22,
   "metadata": {
    "collapsed": false
   },
   "outputs": [
    {
     "data": {
      "text/plain": [
       "4"
      ]
     },
     "execution_count": 22,
     "metadata": {},
     "output_type": "execute_result"
    }
   ],
   "source": [
    "infi_incr.next()"
   ]
  },
  {
   "cell_type": "code",
   "execution_count": 23,
   "metadata": {
    "collapsed": false
   },
   "outputs": [
    {
     "data": {
      "text/plain": [
       "5"
      ]
     },
     "execution_count": 23,
     "metadata": {},
     "output_type": "execute_result"
    }
   ],
   "source": [
    "infi_incr.next()"
   ]
  },
  {
   "cell_type": "markdown",
   "metadata": {},
   "source": [
    "- We can call `infi_incr.next()` as many times as we want to get an incremented number each time without having a list in memory."
   ]
  },
  {
   "cell_type": "markdown",
   "metadata": {},
   "source": [
    "Another example: What if we have huge data in some file and need to process each of it's lines by calling one or many functions on them..."
   ]
  },
  {
   "cell_type": "code",
   "execution_count": null,
   "metadata": {
    "collapsed": true
   },
   "outputs": [],
   "source": []
  },
  {
   "cell_type": "code",
   "execution_count": 24,
   "metadata": {
    "collapsed": false
   },
   "outputs": [
    {
     "name": "stdout",
     "output_type": "stream",
     "text": [
      "\n"
     ]
    }
   ],
   "source": [
    "# Creating a temp file to use in gen1() function below\n",
    "import tempfile\n",
    "# import commands\n",
    "# import os\n",
    "\n",
    "# commandname = \"cat\"\n",
    "\n",
    "temp_file_obj = tempfile.NamedTemporaryFile(delete=False)\n",
    "temp_file_obj.write(\"1\")\n",
    "temp_file_obj.write(\"2\")\n",
    "temp_file_obj.write(\"3\")\n",
    "temp_file_obj.write(\"4\")\n",
    "temp_file_obj.write(\"5\")\n",
    "\n",
    "temp_file_obj.close() # file is not immediately deleted because we\n",
    "          # used delete=False\n",
    "# res = commands.getoutput(\"%s %s\" % (commandname,temp_file_obj.name))\n",
    "# print res\n",
    "# os.unlink(temp_file_obj.name)\n",
    "\n",
    "def gen1():\n",
    "    with open(temp_file_obj.name) as f:\n",
    "        for line in f:\n",
    "            yield line\n",
    "\n",
    "# g = gen1()\n",
    "# g2 = (process(x) for x in g)\n",
    "\n",
    "# for x in g2:\n",
    "#     print x"
   ]
  },
  {
   "cell_type": "markdown",
   "metadata": {},
   "source": [
    "- In Python, a file object can be iterated over to obtain one line at a time.\n",
    "- In the above eg, since the `process` function is called inside a generator expression, it will not be executed until the for loops starts consuming the generator.\n",
    "- This is when the `process` function will execute for each value.\n",
    "- This way the cost of loading huge file into memory is avoided\n",
    "- Though, this also means that the file cannot be closed until all lines are processed"
   ]
  },
  {
   "cell_type": "markdown",
   "metadata": {},
   "source": [
    "Also:\n",
    "- Not keeping elements in memory implies that a generator object can be looped through or consumed only once.\n",
    "- Hence obviously not a good choice if the sequence of items need to be reused. In this case a normal list would be suitable"
   ]
  },
  {
   "cell_type": "code",
   "execution_count": 7,
   "metadata": {
    "collapsed": false
   },
   "outputs": [
    {
     "data": {
      "text/plain": [
       "[1, 4, 9, 16, 25]"
      ]
     },
     "execution_count": 7,
     "metadata": {},
     "output_type": "execute_result"
    }
   ],
   "source": [
    "g = gen()\n",
    "squares = (i*i for i in g)\n",
    "list(squares)"
   ]
  },
  {
   "cell_type": "code",
   "execution_count": 26,
   "metadata": {
    "collapsed": false
   },
   "outputs": [
    {
     "data": {
      "text/plain": [
       "[]"
      ]
     },
     "execution_count": 26,
     "metadata": {},
     "output_type": "execute_result"
    }
   ],
   "source": [
    "cubes = (i*i*i for i in g)\n",
    "list(cubes)"
   ]
  },
  {
   "cell_type": "markdown",
   "metadata": {},
   "source": [
    "- But if you have a series of functions that need to be exectuted one after the another on each line of a file, then the laziness of generator expressions can be tremendously useful"
   ]
  },
  {
   "cell_type": "markdown",
   "metadata": {
    "collapsed": true
   },
   "source": [
    "## Understanding the 'lazy' using a ~~concrete~~ contrived example"
   ]
  },
  {
   "cell_type": "markdown",
   "metadata": {},
   "source": [
    "- Imagine our hugedata.txt is actually a tiny file of just 5 lines containing the first 5 positive integers\n",
    "- Here's an example that uses list comprehensions and hence will build and keep lists in memory"
   ]
  },
  {
   "cell_type": "code",
   "execution_count": 25,
   "metadata": {
    "collapsed": false
   },
   "outputs": [
    {
     "name": "stdout",
     "output_type": "stream",
     "text": [
      "Square of 1 -> Square of 2 -> Square of 3 -> Square of 4 -> Square of 5 -> Digit sum of 1 -> Digit sum of 4 -> Digit sum of 9 -> Digit sum of 16 -> Digit sum of 25 -> 1\n",
      "4\n",
      "9\n",
      "7\n",
      "7\n"
     ]
    }
   ],
   "source": [
    "def digit_sum(x):\n",
    "    print 'Digit sum of {} ->'.format(x),\n",
    "    return sum(map(int, str(x)))\n",
    "\n",
    "def square(x):\n",
    "    print 'Square of {} ->'.format(x),\n",
    "    return int(x)*int(x)\n",
    "\n",
    "numbers = gen()\n",
    "squares = [square(n) for n in numbers]\n",
    "dsums = [digit_sum(n) for n in squares]\n",
    "\n",
    "for n in dsums:\n",
    "    print n"
   ]
  },
  {
   "cell_type": "markdown",
   "metadata": {},
   "source": [
    "First all squares were calculated, then their digit sums and then the results will be printed one by one"
   ]
  },
  {
   "cell_type": "markdown",
   "metadata": {},
   "source": [
    "Now with generator expressions, lets see what we get..."
   ]
  },
  {
   "cell_type": "markdown",
   "metadata": {},
   "source": [
    "See example below section --Now with generator expressions just see what we get-- on the [link](http://naiquevin.github.io/python-generators-and-being-lazy.html): "
   ]
  },
  {
   "cell_type": "markdown",
   "metadata": {},
   "source": [
    "- Its called lazy because the numbera are getting consumed late, at the time of iteration.\n",
    "- The implicit call to `next` by the `for` loop asks for `digit_sum` of `1` from `dsum` which asks for `suqare` of `1` from `squares` which asks for `1` from `numbers`.\n",
    "- This continues till `numbers` can yield a value.\n",
    "- Finally, nothing is evaluated until it is asked for"
   ]
  },
  {
   "cell_type": "markdown",
   "metadata": {},
   "source": [
    "### Common Traps and things to watch out for"
   ]
  },
  {
   "cell_type": "markdown",
   "metadata": {},
   "source": [
    "- Rule #0: Use generators wisely. Don't use a generator expression only because the syntax is slightly different from list comprehensions.\n",
    "\n",
    "    If sequence needs to be reused, then simply use a list. Keeping stuff in memory is not bad after all (we do that all the time while caching values! Don't we?)\n",
    "    \n",
    "    \n",
    "- Another important thing to watch out for is the scope of variables that are going to be used by functions when they execute in lazy manner. Here's an example...\n",
    "    \n",
    "    Suppose we have a generator that yields alphabets and we need to add two suffixes to each alphabet, for eg, we have alphabet `a`. First it's suffixed with `x` which makes it `ax` and then with `y` which makes it `axy`.\n",
    "    \n",
    "    We need to do this with multiple alphabets and we choose to use a generator object to yield each alphabet"
   ]
  },
  {
   "cell_type": "code",
   "execution_count": 34,
   "metadata": {
    "collapsed": false
   },
   "outputs": [
    {
     "name": "stdout",
     "output_type": "stream",
     "text": [
      "['ayy', 'byy', 'cyy', 'dyy']\n"
     ]
    }
   ],
   "source": [
    "def add_suffix(s, suffix):\n",
    "    return '{}{}'.format(s, suffix)\n",
    "\n",
    "def gen():\n",
    "    for i in ['a', 'b', 'c', 'd']:\n",
    "        yield i\n",
    "\n",
    "ns = gen()\n",
    "suffixes = ['x', 'y']\n",
    "\n",
    "for s in suffixes:\n",
    "    ns = (add_suffix(i, s) for i in ns)\n",
    "\n",
    "print list(ns)"
   ]
  },
  {
   "cell_type": "markdown",
   "metadata": {},
   "source": [
    "- Lets try to understand what happened here:\n",
    "    \n",
    "    A generator can remember the local variables when it gets back the control on the call of `next` method. The local scope here is actually that of the `for` loop. By the time the generator is consumed upon call to `list(ns)`, the value of `s` in local scope is `y`. The value `x` (which was the value of `s` in first iteration of `for` loop) in the previous iteration of suffixes is simply lost."
   ]
  },
  {
   "cell_type": "markdown",
   "metadata": {},
   "source": [
    "- Lets fix this, we just define another function wrapping over the call to `add_suffix` function that will return a generator object"
   ]
  },
  {
   "cell_type": "code",
   "execution_count": 45,
   "metadata": {
    "collapsed": false
   },
   "outputs": [],
   "source": [
    "def gen1(s, sfx=['a', 'b', 'c', 'd']):\n",
    "    for x in s:\n",
    "        yield add_suffix(x, sfx)\n",
    "\n",
    "for s in suffixes:\n",
    "    ns = gen1(ns, s)"
   ]
  },
  {
   "cell_type": "code",
   "execution_count": 46,
   "metadata": {
    "collapsed": false
   },
   "outputs": [
    {
     "data": {
      "text/plain": [
       "[]"
      ]
     },
     "execution_count": 46,
     "metadata": {},
     "output_type": "execute_result"
    }
   ],
   "source": [
    "list(ns)"
   ]
  },
  {
   "cell_type": "markdown",
   "metadata": {},
   "source": [
    "*Note: The last example is broken and no longer works*"
   ]
  }
 ],
 "metadata": {
  "kernelspec": {
   "display_name": "Python 2",
   "language": "python",
   "name": "python2"
  },
  "language_info": {
   "codemirror_mode": {
    "name": "ipython",
    "version": 2
   },
   "file_extension": ".py",
   "mimetype": "text/x-python",
   "name": "python",
   "nbconvert_exporter": "python",
   "pygments_lexer": "ipython2",
   "version": "2.7.11"
  }
 },
 "nbformat": 4,
 "nbformat_minor": 2
}
